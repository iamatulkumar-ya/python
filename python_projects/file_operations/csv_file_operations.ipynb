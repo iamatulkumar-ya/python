{
 "cells": [
  {
   "cell_type": "code",
   "execution_count": null,
   "id": "54ce9cea",
   "metadata": {},
   "outputs": [],
   "source": [
    "import os\n",
    "import csv\n",
    "import pandas as pd\n",
    "import numpy as np"
   ]
  },
  {
   "cell_type": "code",
   "execution_count": null,
   "id": "f558f6e9",
   "metadata": {},
   "outputs": [],
   "source": [
    "salesDF = pd.read_csv(os.path.join(os.getcwd(), \"sales.csv\"))"
   ]
  },
  {
   "cell_type": "code",
   "execution_count": null,
   "id": "00454d75",
   "metadata": {},
   "outputs": [],
   "source": [
    "salesDF.head()"
   ]
  },
  {
   "cell_type": "code",
   "execution_count": null,
   "id": "70e73f30",
   "metadata": {},
   "outputs": [],
   "source": [
    "salesDF.info()"
   ]
  },
  {
   "cell_type": "code",
   "execution_count": null,
   "id": "50f15af9",
   "metadata": {},
   "outputs": [],
   "source": [
    "len(salesDF)"
   ]
  },
  {
   "cell_type": "code",
   "execution_count": null,
   "id": "8fb49954",
   "metadata": {},
   "outputs": [],
   "source": [
    "salesDF.notnull().sum()"
   ]
  },
  {
   "cell_type": "code",
   "execution_count": null,
   "id": "6c249e0f",
   "metadata": {},
   "outputs": [],
   "source": [
    "salesDF[\"SalesDate\"] = salesDF[\"SalesDate\"].apply(lambda x : str(x))"
   ]
  },
  {
   "cell_type": "code",
   "execution_count": null,
   "id": "deefdd7d",
   "metadata": {},
   "outputs": [],
   "source": [
    "salesDF[salesDF[\"SalesDate\"] != 'nan'].count()"
   ]
  },
  {
   "cell_type": "code",
   "execution_count": null,
   "id": "5aaa6929",
   "metadata": {},
   "outputs": [],
   "source": [
    "salesDF.count()"
   ]
  },
  {
   "cell_type": "code",
   "execution_count": null,
   "id": "1bbb00dc",
   "metadata": {},
   "outputs": [],
   "source": [
    "salesDF[salesDF[\"SalesDate\"] != 'nan'].sample(150000).to_csv(os.path.join(os.getcwd(), \"nsales.csv\"), index=False)"
   ]
  },
  {
   "cell_type": "code",
   "execution_count": null,
   "id": "578825f1",
   "metadata": {},
   "outputs": [],
   "source": [
    "ctDF = pd.read_csv(os.path.join(os.getcwd(), \"cities.csv\"))\n",
    "crDF = pd.read_csv(os.path.join(os.getcwd(), \"countries.csv\"))"
   ]
  },
  {
   "cell_type": "code",
   "execution_count": null,
   "id": "0178258d",
   "metadata": {},
   "outputs": [],
   "source": [
    "ctDF.head()"
   ]
  },
  {
   "cell_type": "code",
   "execution_count": null,
   "id": "ed0bf8c2",
   "metadata": {},
   "outputs": [],
   "source": [
    "crDF.head()"
   ]
  },
  {
   "cell_type": "code",
   "execution_count": null,
   "id": "19a84a40",
   "metadata": {},
   "outputs": [],
   "source": [
    "nctDF = ctDF.merge(crDF, how=\"left\", on=[\"CountryID\"])"
   ]
  },
  {
   "cell_type": "code",
   "execution_count": null,
   "id": "eecc726e",
   "metadata": {},
   "outputs": [],
   "source": [
    "caDF = pd.read_csv(os.path.join(os.getcwd(), \"categories.csv\"))"
   ]
  },
  {
   "cell_type": "code",
   "execution_count": null,
   "id": "0d167087",
   "metadata": {},
   "outputs": [],
   "source": [
    "prDF = pd.read_csv(os.path.join(os.getcwd(), \"products.csv\"))"
   ]
  },
  {
   "cell_type": "code",
   "execution_count": null,
   "id": "f87fc270",
   "metadata": {},
   "outputs": [],
   "source": [
    "nprDF = prDF.merge(caDF, how=\"left\", on=[\"CategoryID\"]).drop([\"CategoryID\"], axis=1)"
   ]
  },
  {
   "cell_type": "code",
   "execution_count": null,
   "id": "0bdd6a03",
   "metadata": {},
   "outputs": [],
   "source": [
    "nprDF"
   ]
  },
  {
   "cell_type": "code",
   "execution_count": null,
   "id": "10afb3e6",
   "metadata": {},
   "outputs": [],
   "source": [
    "neDF = eDF.merge(nctDF, how=\"left\", on=[\"CityID\"]).drop([\"CityID\", \"CountryID\"], axis=1)"
   ]
  },
  {
   "cell_type": "code",
   "execution_count": null,
   "id": "17ce2443",
   "metadata": {},
   "outputs": [],
   "source": [
    "nprDF.to_csv(os.path.join(os.getcwd(), \"products.csv\"), index=False)"
   ]
  },
  {
   "cell_type": "code",
   "execution_count": null,
   "id": "6a129e98",
   "metadata": {},
   "outputs": [],
   "source": [
    "neDF.to_csv(os.path.join(os.getcwd(), \"employees.csv\"), index=False)"
   ]
  }
 ],
 "metadata": {
  "kernelspec": {
   "display_name": ".venv",
   "language": "python",
   "name": "python3"
  },
  "language_info": {
   "codemirror_mode": {
    "name": "ipython",
    "version": 3
   },
   "file_extension": ".py",
   "mimetype": "text/x-python",
   "name": "python",
   "nbconvert_exporter": "python",
   "pygments_lexer": "ipython3",
   "version": "3.12.10"
  }
 },
 "nbformat": 4,
 "nbformat_minor": 5
}
