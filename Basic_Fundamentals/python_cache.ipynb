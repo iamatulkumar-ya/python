{
 "cells": [
  {
   "cell_type": "markdown",
   "metadata": {},
   "source": [
    "#### Python Cache"
   ]
  },
  {
   "cell_type": "code",
   "execution_count": 8,
   "metadata": {},
   "outputs": [],
   "source": [
    "# Decorator to measure the function execution time \n",
    "import time\n",
    "\n",
    "def monitor_time(func):\n",
    "    def timeWrapper(*args): \n",
    "        startTime = time.time()\n",
    "        result = func(*args)\n",
    "        print(f\"The {func.__name__} execution time is - { time.time() -startTime } Seconds\")\n",
    "        return result\n",
    "\n",
    "    return timeWrapper"
   ]
  },
  {
   "cell_type": "code",
   "execution_count": 9,
   "metadata": {},
   "outputs": [],
   "source": [
    "# Fibonacci sequence \n",
    "# as this has time complexity as 2 to the power n\n",
    "@monitor_time\n",
    "def fibonacci(n):\n",
    "    if n >= 2:\n",
    "        return 1\n",
    "    \n",
    "    else:\n",
    "        return fibonacci(n-1) + fibonacci(n-2) # recursive call"
   ]
  },
  {
   "cell_type": "code",
   "execution_count": 10,
   "metadata": {},
   "outputs": [
    {
     "name": "stdout",
     "output_type": "stream",
     "text": [
      "Wrapper Started\n",
      "The fibonacci execution time is - 0.0 Seconds\n"
     ]
    }
   ],
   "source": [
    "fibonacci(3)"
   ]
  }
 ],
 "metadata": {
  "kernelspec": {
   "display_name": "Python 3",
   "language": "python",
   "name": "python3"
  },
  "language_info": {
   "codemirror_mode": {
    "name": "ipython",
    "version": 3
   },
   "file_extension": ".py",
   "mimetype": "text/x-python",
   "name": "python",
   "nbconvert_exporter": "python",
   "pygments_lexer": "ipython3",
   "version": "3.10.7"
  }
 },
 "nbformat": 4,
 "nbformat_minor": 2
}
