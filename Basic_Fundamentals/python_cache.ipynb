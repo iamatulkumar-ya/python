{
 "cells": [
  {
   "cell_type": "markdown",
   "id": "684c45b3",
   "metadata": {},
   "source": [
    "### Python Cache "
   ]
  },
  {
   "cell_type": "markdown",
   "id": "23c1143f",
   "metadata": {},
   "source": [
    "#### Custom cache using Dictionary"
   ]
  },
  {
   "cell_type": "code",
   "execution_count": 50,
   "id": "db25844f",
   "metadata": {},
   "outputs": [],
   "source": [
    "import time\n"
   ]
  },
  {
   "cell_type": "code",
   "execution_count": 51,
   "id": "6e79e9b0",
   "metadata": {},
   "outputs": [],
   "source": [
    "cache_dict = {}"
   ]
  },
  {
   "cell_type": "code",
   "execution_count": 52,
   "id": "f4d4da08",
   "metadata": {},
   "outputs": [],
   "source": [
    "def execution_time_monitoring(func): \n",
    "    def _wrapper(*args): \n",
    "        if args in cache_dict:\n",
    "            return cache_dict[args]\n",
    "        \n",
    "        else:\n",
    "            st = time.time()\n",
    "            result = func(*args)\n",
    "            cache_dict[args] = result\n",
    "            print(f\"Total execution time - {time.time() - st}\")\n",
    "            return result\n",
    "    \n",
    "    return _wrapper"
   ]
  },
  {
   "cell_type": "code",
   "execution_count": 53,
   "id": "1b203f28",
   "metadata": {},
   "outputs": [],
   "source": [
    "@execution_time_monitoring\n",
    "def perform_task(loop_counter):\n",
    "    val = 0\n",
    "    for i in range(loop_counter**3):\n",
    "        val +=i\n",
    "    \n",
    "    return val\n"
   ]
  },
  {
   "cell_type": "code",
   "execution_count": 54,
   "id": "431b375a",
   "metadata": {},
   "outputs": [
    {
     "name": "stdout",
     "output_type": "stream",
     "text": [
      "Total execution time - 1.927339792251587\n",
      "31051916359101\n"
     ]
    }
   ],
   "source": [
    "print(perform_task(199))"
   ]
  },
  {
   "cell_type": "code",
   "execution_count": null,
   "id": "b64f5689",
   "metadata": {},
   "outputs": [
    {
     "name": "stdout",
     "output_type": "stream",
     "text": [
      "31051916359101\n"
     ]
    }
   ],
   "source": [
    "print(perform_task(199)) # this is coming from cache"
   ]
  },
  {
   "cell_type": "markdown",
   "id": "7172f2ff",
   "metadata": {},
   "source": [
    "#### LRU (Least Recently Used Cache)"
   ]
  },
  {
   "cell_type": "code",
   "execution_count": 56,
   "id": "cd872c2d",
   "metadata": {},
   "outputs": [],
   "source": [
    "from functools import lru_cache"
   ]
  },
  {
   "cell_type": "code",
   "execution_count": 58,
   "id": "0d5a82b2",
   "metadata": {},
   "outputs": [],
   "source": [
    "def execution_time_monitoring_lru(func): \n",
    "    def _wrapper(*args): \n",
    "        st = time.time()\n",
    "        result = func(*args)\n",
    "        cache_dict[args] = result\n",
    "        print(f\"Total execution time - {time.time() - st}\")\n",
    "        return result\n",
    "    \n",
    "    return _wrapper"
   ]
  },
  {
   "cell_type": "code",
   "execution_count": null,
   "id": "ee73ed45",
   "metadata": {},
   "outputs": [],
   "source": [
    "@execution_time_monitoring_lru\n",
    "@lru_cache     # if no paramter mentioned then the size will go till indefinite\n",
    "def perform_task_lru(loop_counter):\n",
    "    val = 0\n",
    "    for i in range(loop_counter**3):\n",
    "        val +=i\n",
    "    \n",
    "    return val\n"
   ]
  },
  {
   "cell_type": "code",
   "execution_count": 60,
   "id": "a9b032fa",
   "metadata": {},
   "outputs": [
    {
     "name": "stdout",
     "output_type": "stream",
     "text": [
      "Total execution time - 1.9345033168792725\n",
      "55161320230611\n"
     ]
    }
   ],
   "source": [
    "print(perform_task_lru(219))"
   ]
  },
  {
   "cell_type": "code",
   "execution_count": 61,
   "id": "9aef5172",
   "metadata": {},
   "outputs": [
    {
     "name": "stdout",
     "output_type": "stream",
     "text": [
      "Total execution time - 0.0\n",
      "55161320230611\n"
     ]
    }
   ],
   "source": [
    "print(perform_task_lru(219))"
   ]
  },
  {
   "cell_type": "code",
   "execution_count": 63,
   "id": "c17f8ee5",
   "metadata": {},
   "outputs": [
    {
     "name": "stdout",
     "output_type": "stream",
     "text": [
      "Total execution time - 2.330120086669922\n",
      "53667198366796\n"
     ]
    }
   ],
   "source": [
    "print(perform_task_lru(218))"
   ]
  },
  {
   "cell_type": "code",
   "execution_count": 65,
   "id": "29445f22",
   "metadata": {},
   "outputs": [],
   "source": [
    "# lru with size limit\n",
    "\n",
    "@execution_time_monitoring_lru\n",
    "@lru_cache(maxsize=2)     # means max two items it will keep\n",
    "def perform_task_lru2(loop_counter):\n",
    "    val = 0\n",
    "    for i in range(loop_counter**3):\n",
    "        val +=i\n",
    "    \n",
    "    return val\n"
   ]
  },
  {
   "cell_type": "code",
   "execution_count": 66,
   "id": "8e3de42a",
   "metadata": {},
   "outputs": [
    {
     "name": "stdout",
     "output_type": "stream",
     "text": [
      "Total execution time - 2.326543092727661\n",
      "58253712246730\n",
      "Total execution time - 1.8019018173217773\n",
      "59853260198628\n",
      "Total execution time - 1.9031949043273926\n",
      "61489242578961\n",
      "Total execution time - 1.7704565525054932\n",
      "58253712246730\n"
     ]
    }
   ],
   "source": [
    "print(perform_task_lru2(221))\n",
    "print(perform_task_lru2(222))\n",
    "print(perform_task_lru2(223))\n",
    "print(perform_task_lru2(221))"
   ]
  },
  {
   "cell_type": "code",
   "execution_count": null,
   "id": "340b8485",
   "metadata": {},
   "outputs": [
    {
     "name": "stdout",
     "output_type": "stream",
     "text": [
      "Total execution time - 2.3407135009765625\n",
      "64873163250000\n",
      "Total execution time - 2.263112783432007\n",
      "66622450311900\n",
      "Total execution time - 0.0\n",
      "64873163250000\n",
      "Total execution time - 2.9149110317230225\n",
      "68410869505903\n"
     ]
    }
   ],
   "source": [
    "print(perform_task_lru2(225))\n",
    "print(perform_task_lru2(226))\n",
    "print(perform_task_lru2(225)) # should not take more time\n",
    "print(perform_task_lru2(227))"
   ]
  },
  {
   "cell_type": "markdown",
   "id": "cf25f7e7",
   "metadata": {},
   "source": [
    "#### lru cache with time to live mechanism"
   ]
  },
  {
   "cell_type": "code",
   "execution_count": 69,
   "id": "2c6368ad",
   "metadata": {},
   "outputs": [
    {
     "name": "stdout",
     "output_type": "stream",
     "text": [
      "Collecting cachetools\n",
      "  Downloading cachetools-6.1.0-py3-none-any.whl.metadata (5.4 kB)\n",
      "Downloading cachetools-6.1.0-py3-none-any.whl (11 kB)\n",
      "Installing collected packages: cachetools\n",
      "Successfully installed cachetools-6.1.0\n"
     ]
    },
    {
     "name": "stderr",
     "output_type": "stream",
     "text": [
      "\n",
      "[notice] A new release of pip is available: 24.0 -> 25.1.1\n",
      "[notice] To update, run: python.exe -m pip install --upgrade pip\n"
     ]
    }
   ],
   "source": [
    "! pip install cachetools"
   ]
  },
  {
   "cell_type": "code",
   "execution_count": 70,
   "id": "4c004bf7",
   "metadata": {},
   "outputs": [],
   "source": [
    "from cachetools import cached, TTLCache"
   ]
  },
  {
   "cell_type": "code",
   "execution_count": 76,
   "id": "6fae3b42",
   "metadata": {},
   "outputs": [],
   "source": [
    "ttlObj = TTLCache(maxsize=2, ttl=3)\n",
    "@execution_time_monitoring_lru\n",
    "@cached(cache = ttlObj)      \n",
    "def perform_task_lru_ttl(loop_counter):\n",
    "    val = 0\n",
    "    for i in range(loop_counter**3):\n",
    "        val +=i\n",
    "    \n",
    "    return val\n"
   ]
  },
  {
   "cell_type": "code",
   "execution_count": 77,
   "id": "7e140899",
   "metadata": {},
   "outputs": [
    {
     "name": "stdout",
     "output_type": "stream",
     "text": [
      "Total execution time - 2.9553728103637695\n",
      "75969951379245\n",
      "Total execution time - 2.1650049686431885\n",
      "77964676086528\n",
      "Total execution time - 2.098435640335083\n",
      "80002856945116\n",
      "Total execution time - 2.138096332550049\n",
      "75969951379245\n"
     ]
    }
   ],
   "source": [
    "print(perform_task_lru_ttl(231))\n",
    "print(perform_task_lru_ttl(232))\n",
    "print(perform_task_lru_ttl(233))\n",
    "print(perform_task_lru_ttl(231)) # will take more time, as time might be passed"
   ]
  }
 ],
 "metadata": {
  "kernelspec": {
   "display_name": ".venv",
   "language": "python",
   "name": "python3"
  },
  "language_info": {
   "codemirror_mode": {
    "name": "ipython",
    "version": 3
   },
   "file_extension": ".py",
   "mimetype": "text/x-python",
   "name": "python",
   "nbconvert_exporter": "python",
   "pygments_lexer": "ipython3",
   "version": "3.11.9"
  }
 },
 "nbformat": 4,
 "nbformat_minor": 5
}
