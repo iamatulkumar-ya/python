{
 "cells": [
  {
   "cell_type": "markdown",
   "id": "20c9da4e",
   "metadata": {},
   "source": [
    "##### Python also supports Object Oriented programming concepts\n",
    "Let's look into how class works in python\n",
    "\n",
    "\n",
    "\n",
    "\n"
   ]
  },
  {
   "cell_type": "markdown",
   "id": "e4997f8c",
   "metadata": {},
   "source": [
    "#### Simple Class and method"
   ]
  },
  {
   "cell_type": "code",
   "execution_count": 4,
   "id": "28b0ec28",
   "metadata": {},
   "outputs": [
    {
     "name": "stdout",
     "output_type": "stream",
     "text": [
      "Project has been demoed\n"
     ]
    }
   ],
   "source": [
    "class DemoClass:\n",
    "    def demo_me(self):\n",
    "        print(\"Project has been demoed\")\n",
    "\n",
    "\n",
    "\n",
    "dcObj = DemoClass()\n",
    "dcObj.demo_me()"
   ]
  },
  {
   "cell_type": "markdown",
   "id": "f8c7738a",
   "metadata": {},
   "source": [
    "#### Class with constructor"
   ]
  },
  {
   "cell_type": "code",
   "execution_count": 3,
   "id": "8dd357d1",
   "metadata": {},
   "outputs": [
    {
     "name": "stdout",
     "output_type": "stream",
     "text": [
      "Project Black Moon has been demoed\n"
     ]
    }
   ],
   "source": [
    "class DemoClass2:\n",
    "\n",
    "    # constructor\n",
    "    def __init__(self, project_name):\n",
    "        self.projectName = project_name\n",
    "\n",
    "\n",
    "    def demo_me(self):\n",
    "        print(f\"Project {self.projectName} has been demoed\")\n",
    "\n",
    "\n",
    "\n",
    "dcObj = DemoClass2(\"Black Moon\")\n",
    "dcObj.demo_me()"
   ]
  },
  {
   "cell_type": "markdown",
   "id": "4a3157d6",
   "metadata": {},
   "source": [
    "#### Function outside the class"
   ]
  },
  {
   "cell_type": "code",
   "execution_count": 8,
   "id": "47b24ab5",
   "metadata": {},
   "outputs": [
    {
     "name": "stdout",
     "output_type": "stream",
     "text": [
      "25\n",
      "36\n",
      "25\n"
     ]
    }
   ],
   "source": [
    "def func(self, x, y):\n",
    "    return x*y\n",
    "\n",
    "class CalculateClass:\n",
    "\n",
    "    fn = func\n",
    "\n",
    "    def sum_me(self, a, b):\n",
    "        return a+b\n",
    "    \n",
    "    sm = sum_me\n",
    "\n",
    "\n",
    "ccObj = CalculateClass()\n",
    "print(ccObj.sm(10,15))\n",
    "print(ccObj.fn(6,6))\n",
    "print(ccObj.sum_me(10,15))"
   ]
  },
  {
   "cell_type": "markdown",
   "id": "960584ef",
   "metadata": {},
   "source": [
    "#### DataClass\n",
    "useful to store the abstract data types for fixed structure"
   ]
  },
  {
   "cell_type": "code",
   "execution_count": 13,
   "id": "ae4199a4",
   "metadata": {},
   "outputs": [
    {
     "name": "stdout",
     "output_type": "stream",
     "text": [
      "name:  John ; department:  wwe ; code:  0\n",
      "new code 698\n"
     ]
    }
   ],
   "source": [
    "from dataclasses import dataclass\n",
    "\n",
    "@dataclass\n",
    "class Employee:\n",
    "    name:str\n",
    "    id:int\n",
    "    dept:str\n",
    "    code:int = 0000\n",
    "\n",
    "\n",
    "empObj = Employee(\"John\", 12345, \"wwe\")\n",
    "print(\"name: \", empObj.name, \"; department: \", empObj.dept, \"; code: \", empObj.code)\n",
    "\n",
    "# let's overwrite the value\n",
    "empObj.code = 698\n",
    "print(\"new code\", empObj.code)"
   ]
  },
  {
   "cell_type": "code",
   "execution_count": null,
   "id": "a803c4be",
   "metadata": {},
   "outputs": [
    {
     "name": "stdout",
     "output_type": "stream",
     "text": [
      "name:  John ; department:  wwe ; code:  0\n",
      "new code 698\n",
      "employee contacts:  Contact(email='findme@email.com', fax=269748758, phone=0)\n"
     ]
    }
   ],
   "source": [
    "from dataclasses import dataclass\n",
    "\n",
    "@dataclass\n",
    "class Contact:\n",
    "    email:str\n",
    "    fax:int = 0\n",
    "    phone:int = 0\n",
    "\n",
    "\n",
    "@dataclass\n",
    "class Employee:\n",
    "    name:str\n",
    "    id:int\n",
    "    dept:str\n",
    "    contact:Contact\n",
    "    code:int = 0000\n",
    "\n",
    "# let's create conObj\n",
    "conObj = Contact( \"findme@email.com\", 269748758)\n",
    "empObj = Employee(\"John\", 12345, \"wwe\", contact=conObj)\n",
    "print(\"name: \", empObj.name, \"; department: \", empObj.dept, \"; code: \", empObj.code)\n",
    "\n",
    "# let's overwrite the value\n",
    "empObj.code = 698\n",
    "print(\"new code\", empObj.code)\n",
    "\n",
    "print(\"employee contacts: \", empObj.contact)"
   ]
  },
  {
   "cell_type": "code",
   "execution_count": 24,
   "id": "11120a8b",
   "metadata": {},
   "outputs": [
    {
     "name": "stdout",
     "output_type": "stream",
     "text": [
      "\n",
      " values from json data: \n",
      " Employee(name='Optimus', id=897004, dept='universe', contact={'email': 'oprimusprime@unv.com', 'fax': 78994552555, 'phone': 7855441122}, code=112233)\n",
      "\n",
      " contact: \n",
      " {'email': 'oprimusprime@unv.com', 'fax': 78994552555, 'phone': 7855441122}\n"
     ]
    }
   ],
   "source": [
    "from dataclasses import dataclass\n",
    "import json\n",
    "\n",
    "@dataclass\n",
    "class Contact:\n",
    "    email:str\n",
    "    fax:int = 0\n",
    "    phone:int = 0\n",
    "\n",
    "\n",
    "@dataclass\n",
    "class Employee:\n",
    "    name:str\n",
    "    id:int\n",
    "    dept:str\n",
    "    contact:Contact\n",
    "    code:int = 0000\n",
    "\n",
    "\n",
    "jsonData = {\n",
    "    \"name\":\"Optimus\",\n",
    "    \"dept\":\"universe\",\n",
    "    \"id\":897004, \n",
    "    \"code\":112233, \n",
    "    \"contact\": {\n",
    "        \"email\":\"oprimusprime@unv.com\",\n",
    "        \"fax\":78994552555,\n",
    "        \"phone\":7855441122 \n",
    "    },\n",
    "}\n",
    "\n",
    " \n",
    "\n",
    "empObj = Employee(**jsonData)\n",
    "\n",
    "print(\"\\n values from json data: \\n\", empObj)\n",
    "\n",
    "print(\"\\n contact: \\n\", empObj.contact)"
   ]
  }
 ],
 "metadata": {
  "kernelspec": {
   "display_name": ".venv",
   "language": "python",
   "name": "python3"
  },
  "language_info": {
   "codemirror_mode": {
    "name": "ipython",
    "version": 3
   },
   "file_extension": ".py",
   "mimetype": "text/x-python",
   "name": "python",
   "nbconvert_exporter": "python",
   "pygments_lexer": "ipython3",
   "version": "3.11.9"
  }
 },
 "nbformat": 4,
 "nbformat_minor": 5
}
