{
 "cells": [
  {
   "cell_type": "markdown",
   "metadata": {},
   "source": [
    "#### Python Decorators"
   ]
  },
  {
   "cell_type": "markdown",
   "metadata": {},
   "source": [
    "##### Functions"
   ]
  },
  {
   "cell_type": "code",
   "execution_count": 1,
   "metadata": {},
   "outputs": [
    {
     "name": "stdout",
     "output_type": "stream",
     "text": [
      "Called func1\n"
     ]
    }
   ],
   "source": [
    "def func1():\n",
    "    print(\"Called func1\")\n",
    "\n",
    "def func2(f):\n",
    "    f()\n",
    "\n",
    "\n",
    "# now we can call func1 via func2\n",
    "func2(func1)"
   ]
  },
  {
   "cell_type": "markdown",
   "metadata": {},
   "source": [
    "##### Wrapper Function"
   ]
  },
  {
   "cell_type": "code",
   "execution_count": 4,
   "metadata": {},
   "outputs": [
    {
     "name": "stdout",
     "output_type": "stream",
     "text": [
      "Wrapper Started\n",
      "This is f2 function\n",
      "Wrapper Ended\n"
     ]
    }
   ],
   "source": [
    "# Let's understand the wrapper functions\n",
    "\n",
    "def f1(func):\n",
    "    def wrapper():\n",
    "        print(\"Wrapper Started\") # before the method execution\n",
    "        func()\n",
    "        print(\"Wrapper Ended\") # after the method execution\n",
    "\n",
    "    return wrapper\n",
    "\n",
    "\n",
    "def f2():\n",
    "    print(\"This is f2 function\")\n",
    "\n",
    "\n",
    "\n",
    "\n",
    "f = f1(f2)\n",
    "f()"
   ]
  },
  {
   "cell_type": "markdown",
   "metadata": {},
   "source": [
    "##### Decorator"
   ]
  },
  {
   "cell_type": "code",
   "execution_count": 5,
   "metadata": {},
   "outputs": [
    {
     "name": "stdout",
     "output_type": "stream",
     "text": [
      "Wrapper Started\n",
      "This is decofunc2 function\n",
      "Wrapper Ended\n"
     ]
    }
   ],
   "source": [
    "# Let's take the advantage of Decorator\n",
    "\n",
    "def decofunc1(func):\n",
    "    def wrapper():\n",
    "        print(\"Wrapper Started\") # before the method execution\n",
    "        func()\n",
    "        print(\"Wrapper Ended\") # after the method execution\n",
    "\n",
    "    return wrapper\n",
    "\n",
    "@decofunc1    # here decorated decofunc1 so before below method execution decofunc1 will execute and internally it will execute decofunc2 via wrapper function\n",
    "def decofunc2():\n",
    "    print(\"This is decofunc2 function\")\n",
    "\n",
    "\n",
    "\n",
    "\n",
    "decofunc2()"
   ]
  },
  {
   "cell_type": "code",
   "execution_count": 13,
   "metadata": {},
   "outputs": [
    {
     "name": "stdout",
     "output_type": "stream",
     "text": [
      "Case 1\n",
      "Wrapper Started\n",
      "Skipped function execution as input is not string\n",
      "Wrapper Ended\n",
      "\n",
      "Case 2\n",
      "Wrapper Started\n",
      "This is decofunc2 function. Input is String\n",
      "Wrapper Ended\n"
     ]
    }
   ],
   "source": [
    "# Decorator - What is function has some parameters\n",
    "\n",
    "def decofunc1(func):\n",
    "    def wrapper(a):\n",
    "        print(\"Wrapper Started\") # before the method execution\n",
    "        if type(a) == str:\n",
    "            func(a)\n",
    "        else:\n",
    "            print(\"Skipped function execution as input is not string\")\n",
    "        print(\"Wrapper Ended\") # after the method execution\n",
    "\n",
    "    return wrapper\n",
    "\n",
    "@decofunc1    # here decorated decofunc1 so before below method execution decofunc1 will execute and internally it will execute decofunc2 via wrapper function\n",
    "def decofunc2(a): # as we have added the parameter here so we have to add the argument in above func() as will which is inside wrapper function\n",
    "    print(\"This is decofunc2 function. Input is String\")\n",
    "\n",
    "\n",
    "\n",
    "print(\"Case 1\")\n",
    "decofunc2(10)\n",
    "\n",
    "\n",
    "print(\"\\nCase 2\")\n",
    "decofunc2(\"10\")"
   ]
  },
  {
   "cell_type": "code",
   "execution_count": 18,
   "metadata": {},
   "outputs": [
    {
     "name": "stdout",
     "output_type": "stream",
     "text": [
      "Wrapper Started\n",
      "This is decofunc2 function. It will calculate the Sum\n",
      "Wrapper Ended\n",
      "Result - 25\n"
     ]
    }
   ],
   "source": [
    "# Decorator - returning value from decofunc2\n",
    "\n",
    "def decofunc1(func):\n",
    "    def wrapper(*args):\n",
    "        print(\"Wrapper Started\") # before the method execution\n",
    "        val =  func(*args)\n",
    "        print(\"Wrapper Ended\") # after the method execution\n",
    "        return val\n",
    "\n",
    "    return wrapper\n",
    "\n",
    "@decofunc1    # here decorated decofunc1 so before below method execution decofunc1 will execute and internally it will execute decofunc2 via wrapper function\n",
    "def decofunc2(a,b):\n",
    "    print(\"This is decofunc2 function. It will calculate the Sum\")\n",
    "    return a+b # to get this value we have to return the func as well which is inside the wrapper function\n",
    "\n",
    "\n",
    "\n",
    "\n",
    "result = decofunc2(10,15)\n",
    "print(f\"Result - {result}\") "
   ]
  },
  {
   "cell_type": "markdown",
   "metadata": {},
   "source": [
    "##### Use Cases"
   ]
  },
  {
   "cell_type": "markdown",
   "metadata": {},
   "source": [
    "##### Measuring Function Execution Time"
   ]
  },
  {
   "cell_type": "code",
   "execution_count": 40,
   "metadata": {},
   "outputs": [
    {
     "name": "stdout",
     "output_type": "stream",
     "text": [
      "Wrapper Started\n",
      "This is logicFunction\n",
      "The logicFunction execution time is - 2.003190040588379 Seconds\n"
     ]
    }
   ],
   "source": [
    "# to measure the function execution time \n",
    "import time\n",
    "\n",
    "def monitor_time(func):\n",
    "    def timeWrapper():\n",
    "        print(\"Wrapper Started\")\n",
    "        startTime = time.time()\n",
    "        func()\n",
    "        print(f\"The {func.__name__} execution time is - { time.time() -startTime } Seconds\")\n",
    "\n",
    "    return timeWrapper\n",
    "\n",
    "@monitor_time\n",
    "def logicFunction():\n",
    "    print(\"This is logicFunction\")\n",
    "    time.sleep(2)\n",
    "\n",
    "logicFunction()"
   ]
  },
  {
   "cell_type": "code",
   "execution_count": null,
   "metadata": {},
   "outputs": [],
   "source": [
    "\"\"\"\n",
    "This file is used to understand the decorators in python. \n",
    "\"\"\"\n",
    "\n",
    "# Let's understand the wrapper functions\n",
    "from datetime import datetime\n",
    "import time\n",
    "def logging_decorator(func):\n",
    "    def wrapper():\n",
    "        print(\"Logging Started\", datetime.now())\n",
    "        func()\n",
    "        print(\"Logging Ended\", datetime.now())\n",
    "\n",
    "    return wrapper\n",
    "    \n",
    "\n",
    "@logging_decorator\n",
    "def calling_function():\n",
    "    print(\"This is calling_function function\")\n",
    "\n",
    " \n",
    "#print(calling_function())\n"
   ]
  },
  {
   "cell_type": "code",
   "execution_count": null,
   "metadata": {},
   "outputs": [],
   "source": [
    "\n",
    "\n",
    "\n",
    "#*************************\n",
    "\n",
    "\n",
    "def timer_decorator(func):\n",
    "    def wrapper(*args, **kwargs):\n",
    "        print(\"Execution Started\", datetime.now())\n",
    "        result = func(*args, **kwargs)\n",
    "        print(\"Execution Ended\", datetime.now())\n",
    "        return result\n",
    "    return wrapper\n",
    "    \n",
    "\n",
    "@timer_decorator\n",
    "def calling_function2():\n",
    "    print(\"This is calling_function2 function\")\n",
    "    time.sleep(2)\n",
    "    return \"I am awesome\"\n",
    "\n",
    " \n",
    "print(calling_function2())"
   ]
  }
 ],
 "metadata": {
  "kernelspec": {
   "display_name": "Python 3",
   "language": "python",
   "name": "python3"
  },
  "language_info": {
   "codemirror_mode": {
    "name": "ipython",
    "version": 3
   },
   "file_extension": ".py",
   "mimetype": "text/x-python",
   "name": "python",
   "nbconvert_exporter": "python",
   "pygments_lexer": "ipython3",
   "version": "3.10.7"
  }
 },
 "nbformat": 4,
 "nbformat_minor": 2
}
