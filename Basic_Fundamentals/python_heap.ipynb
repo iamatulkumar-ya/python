{
 "cells": [
  {
   "cell_type": "markdown",
   "id": "09064386",
   "metadata": {},
   "source": [
    "### Python Heap\n",
    "a heap is a specialized tree-based data structure that satisfies the heap property\n",
    "\n",
    "Very Fast"
   ]
  },
  {
   "cell_type": "markdown",
   "id": "fdc6888c",
   "metadata": {},
   "source": [
    "#### Heap (min-heap)"
   ]
  },
  {
   "cell_type": "code",
   "execution_count": 1,
   "id": "a833e8eb",
   "metadata": {},
   "outputs": [],
   "source": [
    "# in python we have a dedicated module for heap \n",
    "import heapq"
   ]
  },
  {
   "cell_type": "code",
   "execution_count": 2,
   "id": "b133bdee",
   "metadata": {},
   "outputs": [],
   "source": [
    "# creating empty heap\n",
    "_heap = []"
   ]
  },
  {
   "cell_type": "code",
   "execution_count": null,
   "id": "431f7b92",
   "metadata": {},
   "outputs": [
    {
     "name": "stdout",
     "output_type": "stream",
     "text": [
      "<class 'list'>\n",
      "[1, 4, 5, 9, 6]\n"
     ]
    }
   ],
   "source": [
    "# inserting item into heap - use heappush\n",
    "heapq.heappush(_heap, 5)\n",
    "heapq.heappush(_heap, 9)\n",
    "heapq.heappush(_heap, 1)\n",
    "heapq.heappush(_heap, 4)\n",
    "heapq.heappush(_heap, 6)\n",
    "\n",
    "print(type(_heap))\n",
    "print(_heap) # indeed a list, but it has heap property min-heap\n"
   ]
  },
  {
   "cell_type": "code",
   "execution_count": null,
   "id": "62fd6f30",
   "metadata": {},
   "outputs": [
    {
     "name": "stdout",
     "output_type": "stream",
     "text": [
      "1\n",
      "[4, 6, 5, 9]\n",
      "None\n"
     ]
    }
   ],
   "source": [
    "# pop  item from heap, heappop it always gives smallest number to us\n",
    "smallestElement = heapq.heappop(_heap)\n",
    "print(smallestElement)\n",
    "print(print(_heap))"
   ]
  },
  {
   "cell_type": "code",
   "execution_count": null,
   "id": "aa807a10",
   "metadata": {},
   "outputs": [
    {
     "data": {
      "text/plain": [
       "4"
      ]
     },
     "execution_count": 23,
     "metadata": {},
     "output_type": "execute_result"
    }
   ],
   "source": [
    "# heapreplace; it will pop the smallest item and place the new item into corrct place\n",
    "# olny contrains is , we may get return item more than the new item.\n",
    "heapq.heapreplace(_heap, 7)\n",
    "print(_heap)\n"
   ]
  },
  {
   "cell_type": "code",
   "execution_count": 10,
   "id": "23444dfb",
   "metadata": {},
   "outputs": [
    {
     "name": "stdout",
     "output_type": "stream",
     "text": [
      "[0, 2, 1, 7, 4, 3, 2, 8, 9, 8, 6, 8, 5, 8, 4]\n"
     ]
    }
   ],
   "source": [
    "# converts list into a heap followed list\n",
    "li = [8,6,1,8,2,3,4,7,9,8,4,8,5,2,0]\n",
    "heapq.heapify(li)\n",
    "[0, 2, 1, 7, 4, 3, 2, 8, 9, 8, 6, 8, 5, 8, 4]\n",
    "print(li)\n",
    "\n",
    "# hear this code will not sort the list into ascending order, as heapq will make sure that smallest element\n",
    "# is there at position 0, rest would follow the heap concept as follows\n",
    "# Node at index i:\n",
    "\n",
    "# Left child: 2*i + 1\n",
    "\n",
    "# Right child: 2*i + 2\n",
    "\n",
    "# Parent: (i - 1) // 2 (integer division)"
   ]
  },
  {
   "cell_type": "markdown",
   "id": "a6852d86",
   "metadata": {},
   "source": [
    "#### Negative Heap (max-heap)\n",
    "In python we do not have max-heap, but we can trick that with negative sign"
   ]
  },
  {
   "cell_type": "code",
   "execution_count": 46,
   "id": "309c312d",
   "metadata": {},
   "outputs": [],
   "source": [
    "li2  = [7,88,54,1,45,8,52,40,6,91,38,15,51,22,66,81,28,44,4,61,26,9,47,5]"
   ]
  },
  {
   "cell_type": "code",
   "execution_count": 47,
   "id": "08f2608f",
   "metadata": {},
   "outputs": [],
   "source": [
    "_heap2 = [-item for item in li2]"
   ]
  },
  {
   "cell_type": "code",
   "execution_count": 48,
   "id": "2f43d71f",
   "metadata": {},
   "outputs": [],
   "source": [
    "heapq.heapify(_heap2)"
   ]
  },
  {
   "cell_type": "code",
   "execution_count": 40,
   "id": "de9ef119",
   "metadata": {},
   "outputs": [
    {
     "name": "stdout",
     "output_type": "stream",
     "text": [
      "91\n",
      "88\n",
      "81\n",
      "66\n",
      "61\n",
      "54\n",
      "52\n",
      "51\n",
      "47\n",
      "45\n",
      "44\n",
      "40\n",
      "38\n",
      "28\n",
      "26\n",
      "22\n",
      "15\n",
      "9\n",
      "8\n",
      "7\n",
      "6\n",
      "5\n",
      "4\n",
      "1\n"
     ]
    }
   ],
   "source": [
    "for item in li2:\n",
    "    print(-heapq.heappop(_heap2))  "
   ]
  },
  {
   "cell_type": "code",
   "execution_count": 50,
   "id": "958ea009",
   "metadata": {},
   "outputs": [
    {
     "name": "stdout",
     "output_type": "stream",
     "text": [
      "90\n",
      "87\n",
      "80\n",
      "65\n",
      "60\n",
      "53\n",
      "51\n",
      "50\n",
      "46\n",
      "44\n",
      "43\n",
      "39\n",
      "37\n",
      "27\n",
      "25\n",
      "21\n",
      "14\n",
      "8\n",
      "7\n",
      "6\n",
      "5\n",
      "4\n",
      "3\n",
      "0\n"
     ]
    }
   ],
   "source": [
    "# let's modify the heap items\n",
    "for item in li2:\n",
    "    max_value = -heapq.heappop(_heap2)\n",
    "    if max_value == 0:\n",
    "        break\n",
    "    heapq.heappush(_heap2, -(max_value-1)) \n",
    "\n",
    "    print(-heapq.heappop(_heap2))"
   ]
  },
  {
   "cell_type": "markdown",
   "id": "546a9a28",
   "metadata": {},
   "source": [
    "#### Non Integer Heap\n"
   ]
  },
  {
   "cell_type": "code",
   "execution_count": 14,
   "id": "a2d334e8",
   "metadata": {},
   "outputs": [],
   "source": [
    "text = \"This is python technology. Which is really good and interesting. Learn and do awesome work. anc\"\n",
    "_txtheap = text.lower().replace(\".\",\"\").split()"
   ]
  },
  {
   "cell_type": "code",
   "execution_count": 15,
   "id": "280ea45c",
   "metadata": {},
   "outputs": [],
   "source": [
    "heapq.heapify(_txtheap)"
   ]
  },
  {
   "cell_type": "code",
   "execution_count": 16,
   "id": "b256fc06",
   "metadata": {},
   "outputs": [
    {
     "data": {
      "text/plain": [
       "['anc',\n",
       " 'and',\n",
       " 'and',\n",
       " 'good',\n",
       " 'interesting',\n",
       " 'do',\n",
       " 'awesome',\n",
       " 'technology',\n",
       " 'is',\n",
       " 'which',\n",
       " 'learn',\n",
       " 'is',\n",
       " 'python',\n",
       " 'really',\n",
       " 'work',\n",
       " 'this']"
      ]
     },
     "execution_count": 16,
     "metadata": {},
     "output_type": "execute_result"
    }
   ],
   "source": [
    "_txtheap"
   ]
  },
  {
   "cell_type": "code",
   "execution_count": 5,
   "id": "ddcd80a2",
   "metadata": {},
   "outputs": [
    {
     "data": {
      "text/plain": [
       "'This'"
      ]
     },
     "execution_count": 5,
     "metadata": {},
     "output_type": "execute_result"
    }
   ],
   "source": [
    "heapq.heappop(_txtheap)"
   ]
  }
 ],
 "metadata": {
  "kernelspec": {
   "display_name": ".venv",
   "language": "python",
   "name": "python3"
  },
  "language_info": {
   "codemirror_mode": {
    "name": "ipython",
    "version": 3
   },
   "file_extension": ".py",
   "mimetype": "text/x-python",
   "name": "python",
   "nbconvert_exporter": "python",
   "pygments_lexer": "ipython3",
   "version": "3.12.10"
  }
 },
 "nbformat": 4,
 "nbformat_minor": 5
}
