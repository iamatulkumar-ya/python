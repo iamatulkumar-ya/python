{
 "cells": [
  {
   "cell_type": "markdown",
   "id": "09064386",
   "metadata": {},
   "source": [
    "## Python Heap\n",
    "a heap is a specialized tree-based data structure that satisfies the heap property\n",
    "\n",
    "Heap Concept:\n",
    "\n",
    "Left child: 2*i + 1\n",
    "\n",
    "Right child: 2*i + 2\n",
    "\n",
    "Parent: (i - 1) // 2 (integer division)\n",
    "\n",
    "Very Fast"
   ]
  },
  {
   "cell_type": "markdown",
   "id": "fdc6888c",
   "metadata": {},
   "source": [
    "### Heap (min-heap)"
   ]
  },
  {
   "cell_type": "code",
   "execution_count": 1,
   "id": "a833e8eb",
   "metadata": {},
   "outputs": [],
   "source": [
    "# in python we have a dedicated module for heap \n",
    "import heapq"
   ]
  },
  {
   "cell_type": "code",
   "execution_count": 30,
   "id": "b133bdee",
   "metadata": {},
   "outputs": [],
   "source": [
    "# creating empty heap, Note: heap is a type of list only, but it follows heap properties\n",
    "_heap = []"
   ]
  },
  {
   "cell_type": "markdown",
   "id": "ce201bb1",
   "metadata": {},
   "source": [
    "#### heappush\n",
    "insert an item into heap"
   ]
  },
  {
   "cell_type": "code",
   "execution_count": 31,
   "id": "431f7b92",
   "metadata": {},
   "outputs": [
    {
     "name": "stdout",
     "output_type": "stream",
     "text": [
      "<class 'list'>\n",
      "[1, 4, 5, 9, 6]\n"
     ]
    }
   ],
   "source": [
    "# inserting item into heap - use heappush\n",
    "heapq.heappush(_heap, 5)\n",
    "heapq.heappush(_heap, 9)\n",
    "heapq.heappush(_heap, 1)\n",
    "heapq.heappush(_heap, 4)\n",
    "heapq.heappush(_heap, 6)\n",
    "\n",
    "print(type(_heap))\n",
    "print(_heap) # indeed a list, but it has heap property min-heap\n"
   ]
  },
  {
   "cell_type": "markdown",
   "id": "b29529d3",
   "metadata": {},
   "source": [
    "#### heappop \n",
    "remove and returns the smallest item from heap"
   ]
  },
  {
   "cell_type": "code",
   "execution_count": 32,
   "id": "62fd6f30",
   "metadata": {},
   "outputs": [
    {
     "name": "stdout",
     "output_type": "stream",
     "text": [
      "1\n",
      "[4, 6, 5, 9]\n"
     ]
    }
   ],
   "source": [
    "# pop  item from heap, heappop it always gives smallest number to us\n",
    "smallestElement = heapq.heappop(_heap)\n",
    "print(smallestElement)\n",
    "print(_heap)"
   ]
  },
  {
   "cell_type": "markdown",
   "id": "314b3b65",
   "metadata": {},
   "source": [
    "#### heapreplace\n",
    "pop and return the current smallest value, and add the new item."
   ]
  },
  {
   "cell_type": "code",
   "execution_count": 33,
   "id": "aa807a10",
   "metadata": {},
   "outputs": [
    {
     "name": "stdout",
     "output_type": "stream",
     "text": [
      "[5, 6, 7, 9]\n"
     ]
    }
   ],
   "source": [
    "# heapreplace; it will pop the smallest item and place the new item into corrct place\n",
    "# only contrains is , we may get return item more than the new item.\n",
    "heapq.heapreplace(_heap, 7)\n",
    "print(_heap)\n"
   ]
  },
  {
   "cell_type": "markdown",
   "id": "1bfb1d92",
   "metadata": {},
   "source": [
    "#### heapify\n",
    "converts list into heap"
   ]
  },
  {
   "cell_type": "code",
   "execution_count": 34,
   "id": "23444dfb",
   "metadata": {},
   "outputs": [
    {
     "name": "stdout",
     "output_type": "stream",
     "text": [
      "[0, 2, 1, 7, 4, 3, 2, 8, 9, 8, 6, 8, 5, 8, 4]\n"
     ]
    }
   ],
   "source": [
    "# converts list into a heap followed list\n",
    "li = [8,6,1,8,2,3,4,7,9,8,4,8,5,2,0]\n",
    "heapq.heapify(li)\n",
    "[0, 2, 1, 7, 4, 3, 2, 8, 9, 8, 6, 8, 5, 8, 4]\n",
    "print(li)\n",
    "\n",
    "# hear this code will not sort the list into ascending order, as heapq will make sure that smallest element\n",
    "# is there at position 0, rest would follow the heap concept as follows\n",
    "# Node at index i:\n",
    "\n",
    "# Left child: 2*i + 1\n",
    "\n",
    "# Right child: 2*i + 2\n",
    "\n",
    "# Parent: (i - 1) // 2 (integer division)"
   ]
  },
  {
   "cell_type": "markdown",
   "id": "17059648",
   "metadata": {},
   "source": [
    "#### heappushpop\n",
    "push item on the heap, then pop and return the smallest item from the heap"
   ]
  },
  {
   "cell_type": "code",
   "execution_count": 35,
   "id": "4bd13e0b",
   "metadata": {},
   "outputs": [
    {
     "data": {
      "text/plain": [
       "[5, 6, 7, 9]"
      ]
     },
     "execution_count": 35,
     "metadata": {},
     "output_type": "execute_result"
    }
   ],
   "source": [
    "_heap"
   ]
  },
  {
   "cell_type": "code",
   "execution_count": 36,
   "id": "46269272",
   "metadata": {},
   "outputs": [
    {
     "name": "stdout",
     "output_type": "stream",
     "text": [
      "5\n",
      "[6, 9, 7, 11]\n"
     ]
    }
   ],
   "source": [
    "print(heapq.heappushpop(_heap, 11)) # will retrun 5 and insert 11\n",
    "print(_heap)"
   ]
  },
  {
   "cell_type": "code",
   "execution_count": 37,
   "id": "30267a9a",
   "metadata": {},
   "outputs": [
    {
     "name": "stdout",
     "output_type": "stream",
     "text": [
      "6\n",
      "[6, 9, 7, 11]\n"
     ]
    }
   ],
   "source": [
    "print(heapq.heappushpop(_heap, 6))\n",
    "print(_heap)"
   ]
  },
  {
   "cell_type": "markdown",
   "id": "ba66e836",
   "metadata": {},
   "source": [
    "#### merge\n",
    "merges multiple input and gives single sorted output"
   ]
  },
  {
   "cell_type": "code",
   "execution_count": 55,
   "id": "4d62477f",
   "metadata": {},
   "outputs": [
    {
     "name": "stdout",
     "output_type": "stream",
     "text": [
      "[0, 1, -1, 4, 5, 5, 7, 9, 9, 6, 4, 75]\n"
     ]
    }
   ],
   "source": [
    "mli = list(heapq.merge([5,7,9,75], [4,5,9,6,4], [0,1, -1]))\n",
    "print(mli)"
   ]
  },
  {
   "cell_type": "code",
   "execution_count": null,
   "id": "1c25e83a",
   "metadata": {},
   "outputs": [
    {
     "name": "stdout",
     "output_type": "stream",
     "text": [
      "[75, 9, 7, 9, 6, 5, 0, 1, 4, 5, 4, -1]\n"
     ]
    }
   ],
   "source": [
    "heapq._heapify_max(mli) # heapify max maximize the heap\n",
    "print(mli)"
   ]
  },
  {
   "cell_type": "markdown",
   "id": "919934a8",
   "metadata": {},
   "source": [
    "#### nlargest\n",
    "returns sub heap of largest numbers, return count decides by parameter n"
   ]
  },
  {
   "cell_type": "code",
   "execution_count": null,
   "id": "7156f3b2",
   "metadata": {},
   "outputs": [
    {
     "data": {
      "text/plain": [
       "[11]"
      ]
     },
     "execution_count": 51,
     "metadata": {},
     "output_type": "execute_result"
    }
   ],
   "source": [
    "heapq.nlargest(1, _heap) # looking 1 item only as largest"
   ]
  },
  {
   "cell_type": "code",
   "execution_count": 52,
   "id": "ecd622ef",
   "metadata": {},
   "outputs": [
    {
     "data": {
      "text/plain": [
       "[11, 9]"
      ]
     },
     "execution_count": 52,
     "metadata": {},
     "output_type": "execute_result"
    }
   ],
   "source": [
    "heapq.nlargest(2, _heap) # looking 2 item as largest"
   ]
  },
  {
   "cell_type": "markdown",
   "id": "3737f1c5",
   "metadata": {},
   "source": [
    "#### nsmallest\n",
    "returns sub heap of smallest numbers, return count decides by parameter n"
   ]
  },
  {
   "cell_type": "code",
   "execution_count": 53,
   "id": "7c4adae9",
   "metadata": {},
   "outputs": [
    {
     "data": {
      "text/plain": [
       "[6]"
      ]
     },
     "execution_count": 53,
     "metadata": {},
     "output_type": "execute_result"
    }
   ],
   "source": [
    "heapq.nsmallest(1, _heap) # looking 1 item only as smallest"
   ]
  },
  {
   "cell_type": "code",
   "execution_count": 54,
   "id": "aaefe4d1",
   "metadata": {},
   "outputs": [
    {
     "data": {
      "text/plain": [
       "[6, 7]"
      ]
     },
     "execution_count": 54,
     "metadata": {},
     "output_type": "execute_result"
    }
   ],
   "source": [
    "heapq.nsmallest(2, _heap) # looking 2 item as smallest"
   ]
  },
  {
   "cell_type": "code",
   "execution_count": null,
   "id": "bc066344",
   "metadata": {},
   "outputs": [],
   "source": []
  },
  {
   "cell_type": "markdown",
   "id": "a6852d86",
   "metadata": {},
   "source": [
    "### Negative Heap (max-heap)\n",
    "In python we do not have max-heap, but we can trick that with negative sign"
   ]
  },
  {
   "cell_type": "code",
   "execution_count": 46,
   "id": "309c312d",
   "metadata": {},
   "outputs": [],
   "source": [
    "li2  = [7,88,54,1,45,8,52,40,6,91,38,15,51,22,66,81,28,44,4,61,26,9,47,5]"
   ]
  },
  {
   "cell_type": "code",
   "execution_count": 47,
   "id": "08f2608f",
   "metadata": {},
   "outputs": [],
   "source": [
    "_heap2 = [-item for item in li2]"
   ]
  },
  {
   "cell_type": "code",
   "execution_count": 48,
   "id": "2f43d71f",
   "metadata": {},
   "outputs": [],
   "source": [
    "heapq.heapify(_heap2)"
   ]
  },
  {
   "cell_type": "code",
   "execution_count": 40,
   "id": "de9ef119",
   "metadata": {},
   "outputs": [
    {
     "name": "stdout",
     "output_type": "stream",
     "text": [
      "91\n",
      "88\n",
      "81\n",
      "66\n",
      "61\n",
      "54\n",
      "52\n",
      "51\n",
      "47\n",
      "45\n",
      "44\n",
      "40\n",
      "38\n",
      "28\n",
      "26\n",
      "22\n",
      "15\n",
      "9\n",
      "8\n",
      "7\n",
      "6\n",
      "5\n",
      "4\n",
      "1\n"
     ]
    }
   ],
   "source": [
    "for item in li2:\n",
    "    print(-heapq.heappop(_heap2))  "
   ]
  },
  {
   "cell_type": "code",
   "execution_count": 50,
   "id": "958ea009",
   "metadata": {},
   "outputs": [
    {
     "name": "stdout",
     "output_type": "stream",
     "text": [
      "90\n",
      "87\n",
      "80\n",
      "65\n",
      "60\n",
      "53\n",
      "51\n",
      "50\n",
      "46\n",
      "44\n",
      "43\n",
      "39\n",
      "37\n",
      "27\n",
      "25\n",
      "21\n",
      "14\n",
      "8\n",
      "7\n",
      "6\n",
      "5\n",
      "4\n",
      "3\n",
      "0\n"
     ]
    }
   ],
   "source": [
    "# let's modify the heap items\n",
    "for item in li2:\n",
    "    max_value = -heapq.heappop(_heap2)\n",
    "    if max_value == 0:\n",
    "        break\n",
    "    heapq.heappush(_heap2, -(max_value-1)) \n",
    "\n",
    "    print(-heapq.heappop(_heap2))"
   ]
  },
  {
   "cell_type": "markdown",
   "id": "546a9a28",
   "metadata": {},
   "source": [
    "#### Non Integer Heap\n"
   ]
  },
  {
   "cell_type": "code",
   "execution_count": null,
   "id": "a2d334e8",
   "metadata": {},
   "outputs": [],
   "source": [
    "text = \"This is python technology. Which is really good and interesting. Learn and do awesome work. anc\"\n",
    "_txtheap = text.lower().replace(\".\",\"\").split() "
   ]
  },
  {
   "cell_type": "code",
   "execution_count": 4,
   "id": "280ea45c",
   "metadata": {},
   "outputs": [],
   "source": [
    "heapq.heapify(_txtheap)"
   ]
  },
  {
   "cell_type": "code",
   "execution_count": 5,
   "id": "b256fc06",
   "metadata": {},
   "outputs": [
    {
     "data": {
      "text/plain": [
       "['anc',\n",
       " 'and',\n",
       " 'and',\n",
       " 'good',\n",
       " 'interesting',\n",
       " 'do',\n",
       " 'awesome',\n",
       " 'technology',\n",
       " 'is',\n",
       " 'which',\n",
       " 'learn',\n",
       " 'is',\n",
       " 'python',\n",
       " 'really',\n",
       " 'work',\n",
       " 'this']"
      ]
     },
     "execution_count": 5,
     "metadata": {},
     "output_type": "execute_result"
    }
   ],
   "source": [
    "_txtheap"
   ]
  },
  {
   "cell_type": "code",
   "execution_count": null,
   "id": "750afbec",
   "metadata": {},
   "outputs": [],
   "source": [
    "heapq."
   ]
  },
  {
   "cell_type": "markdown",
   "id": "b8e3dfcd",
   "metadata": {},
   "source": [
    "#### complex heap\n",
    "not possible as item gets compare "
   ]
  },
  {
   "cell_type": "code",
   "execution_count": 16,
   "id": "693dcc33",
   "metadata": {},
   "outputs": [],
   "source": [
    "_complexHeap = []"
   ]
  },
  {
   "cell_type": "code",
   "execution_count": 18,
   "id": "34608073",
   "metadata": {},
   "outputs": [
    {
     "ename": "TypeError",
     "evalue": "'<' not supported between instances of 'str' and 'int'",
     "output_type": "error",
     "traceback": [
      "\u001b[31m---------------------------------------------------------------------------\u001b[39m",
      "\u001b[31mTypeError\u001b[39m                                 Traceback (most recent call last)",
      "\u001b[36mCell\u001b[39m\u001b[36m \u001b[39m\u001b[32mIn[18]\u001b[39m\u001b[32m, line 3\u001b[39m\n\u001b[32m      1\u001b[39m heapq.heappush(_complexHeap, \u001b[32m5\u001b[39m)\n\u001b[32m      2\u001b[39m heapq.heappush(_complexHeap, \u001b[32m2\u001b[39m)\n\u001b[32m----> \u001b[39m\u001b[32m3\u001b[39m \u001b[43mheapq\u001b[49m\u001b[43m.\u001b[49m\u001b[43mheappush\u001b[49m\u001b[43m(\u001b[49m\u001b[43m_complexHeap\u001b[49m\u001b[43m,\u001b[49m\u001b[43m \u001b[49m\u001b[33;43m\"\u001b[39;49m\u001b[33;43ma\u001b[39;49m\u001b[33;43m\"\u001b[39;49m\u001b[43m)\u001b[49m\n\u001b[32m      4\u001b[39m heapq.heappush(_complexHeap, \u001b[33m\"\u001b[39m\u001b[33mxy\u001b[39m\u001b[33m\"\u001b[39m)\n\u001b[32m      5\u001b[39m heapq.heappush(_complexHeap, \u001b[32m5.5\u001b[39m)\n",
      "\u001b[31mTypeError\u001b[39m: '<' not supported between instances of 'str' and 'int'"
     ]
    }
   ],
   "source": [
    "heapq.heappush(_complexHeap, 5)\n",
    "heapq.heappush(_complexHeap, 2)\n",
    "heapq.heappush(_complexHeap, \"a\")\n",
    "heapq.heappush(_complexHeap, \"xy\")\n",
    "heapq.heappush(_complexHeap, 5.5)\n",
    "heapq.heappush(_complexHeap, True)\n",
    "heapq.heappush(_complexHeap, [\"a\", \"b\"])"
   ]
  }
 ],
 "metadata": {
  "kernelspec": {
   "display_name": ".venv",
   "language": "python",
   "name": "python3"
  },
  "language_info": {
   "codemirror_mode": {
    "name": "ipython",
    "version": 3
   },
   "file_extension": ".py",
   "mimetype": "text/x-python",
   "name": "python",
   "nbconvert_exporter": "python",
   "pygments_lexer": "ipython3",
   "version": "3.12.9"
  }
 },
 "nbformat": 4,
 "nbformat_minor": 5
}
