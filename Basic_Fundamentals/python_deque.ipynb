{
 "cells": [
  {
   "cell_type": "markdown",
   "id": "3fdea67e",
   "metadata": {},
   "source": [
    "### Python Deque (Collections)"
   ]
  },
  {
   "cell_type": "markdown",
   "id": "3eebdb98",
   "metadata": {},
   "source": [
    "Performance Comparison: List vs Deque\n",
    "\n",
    "The performance of list and deque varies significantly based on the type of operation being performed:\n",
    "<table> \n",
    "<tr> <td> Operation</td> <td> List (O Complexity) </td> <td>  Deque (O Complexity) </td> </tr>\n",
    "<tr> <td> Append at end </td> <td> O(1) </td> <td>  O(1) </td> </tr>\n",
    "<tr> <td> Insert at beginning </td> <td> O(n) </td> <td>  O(1) </td> </tr>\n",
    "<tr> <td> Delete at end </td> <td> O(1) </td> <td>  O(1) </td> </tr>\n",
    "<tr> <td> Delete at beginning </td> <td> O(n) </td> <td>  O(1) </td> </tr>\n",
    "<tr> <td> Random access </td> <td> O(1) </td> <td>  O(n) </td> </tr>\n",
    "</table>\n",
    "\t\t\n",
    " \n",
    "\t \n"
   ]
  },
  {
   "cell_type": "code",
   "execution_count": 1,
   "id": "0c5ab0a1",
   "metadata": {},
   "outputs": [],
   "source": [
    "from collections import deque\n",
    "import sys\n",
    "import random"
   ]
  },
  {
   "cell_type": "code",
   "execution_count": 5,
   "id": "ff0ef3ad",
   "metadata": {},
   "outputs": [],
   "source": [
    "# initializing deque\n",
    "dq = deque() # deque is doubly linked list\n",
    " "
   ]
  },
  {
   "cell_type": "markdown",
   "id": "53a6a54e",
   "metadata": {},
   "source": [
    "#### append\n",
    "\n",
    "appends the item into right end of the deque"
   ]
  },
  {
   "cell_type": "code",
   "execution_count": 6,
   "id": "6b823618",
   "metadata": {},
   "outputs": [],
   "source": [
    "for item in range(10):\n",
    "    dq.append(random.randint(1,50))\n",
    "\n",
    "dq.append(\"text\")"
   ]
  },
  {
   "cell_type": "code",
   "execution_count": 7,
   "id": "706841fc",
   "metadata": {},
   "outputs": [
    {
     "data": {
      "text/plain": [
       "deque([32, 44, 13, 39, 45, 6, 29, 13, 35, 30, 'text'])"
      ]
     },
     "execution_count": 7,
     "metadata": {},
     "output_type": "execute_result"
    }
   ],
   "source": [
    "dq"
   ]
  },
  {
   "cell_type": "code",
   "execution_count": 8,
   "id": "beb97915",
   "metadata": {},
   "outputs": [
    {
     "name": "stdout",
     "output_type": "stream",
     "text": [
      "<class 'collections.deque'>\n",
      "760\n"
     ]
    }
   ],
   "source": [
    "print(type(dq))\n",
    "print(sys.getsizeof(dq))"
   ]
  },
  {
   "cell_type": "markdown",
   "id": "42dd3e07",
   "metadata": {},
   "source": [
    "#### appendleft\n",
    "\n",
    "appends an item into left end of the deque"
   ]
  },
  {
   "cell_type": "code",
   "execution_count": 9,
   "id": "c56c18a1",
   "metadata": {},
   "outputs": [
    {
     "data": {
      "text/plain": [
       "deque([12, 32, 44, 13, 39, 45, 6, 29, 13, 35, 30, 'text'])"
      ]
     },
     "execution_count": 9,
     "metadata": {},
     "output_type": "execute_result"
    }
   ],
   "source": [
    "dq.appendleft(12)\n",
    "dq"
   ]
  },
  {
   "cell_type": "markdown",
   "id": "caf0a39c",
   "metadata": {},
   "source": [
    "#### pop\n",
    "\n",
    "pop and returns as item from the right end of the deque"
   ]
  },
  {
   "cell_type": "code",
   "execution_count": 10,
   "id": "e6cbf4a4",
   "metadata": {},
   "outputs": [
    {
     "data": {
      "text/plain": [
       "deque([12, 32, 44, 13, 39, 45, 6, 29, 13, 35, 30])"
      ]
     },
     "execution_count": 10,
     "metadata": {},
     "output_type": "execute_result"
    }
   ],
   "source": [
    "dq.pop()\n",
    "dq"
   ]
  },
  {
   "cell_type": "markdown",
   "id": "cc6e4497",
   "metadata": {},
   "source": [
    "#### popleft\n",
    "\n",
    "pop and returns an item from the left end of the deque"
   ]
  },
  {
   "cell_type": "code",
   "execution_count": 11,
   "id": "b4ee2627",
   "metadata": {},
   "outputs": [
    {
     "data": {
      "text/plain": [
       "deque([32, 44, 13, 39, 45, 6, 29, 13, 35, 30])"
      ]
     },
     "execution_count": 11,
     "metadata": {},
     "output_type": "execute_result"
    }
   ],
   "source": [
    "dq.popleft()\n",
    "dq"
   ]
  },
  {
   "cell_type": "markdown",
   "id": "30f52590",
   "metadata": {},
   "source": [
    "#### extend\n",
    "\n",
    "extend the deque towards right end of the deque"
   ]
  },
  {
   "cell_type": "code",
   "execution_count": 12,
   "id": "6e498b69",
   "metadata": {},
   "outputs": [
    {
     "data": {
      "text/plain": [
       "deque([32, 44, 13, 39, 45, 6, 29, 13, 35, 30, 'these', 'are', 'new', 'items'])"
      ]
     },
     "execution_count": 12,
     "metadata": {},
     "output_type": "execute_result"
    }
   ],
   "source": [
    "dq.extend([\"these\", \"are\", \"new\", \"items\"])\n",
    "dq"
   ]
  },
  {
   "cell_type": "markdown",
   "id": "227a5e6f",
   "metadata": {},
   "source": [
    "#### extendleft\n",
    "\n",
    "extend the deque towards left end of the deque"
   ]
  },
  {
   "cell_type": "code",
   "execution_count": 20,
   "id": "b9bf5e2a",
   "metadata": {},
   "outputs": [
    {
     "data": {
      "text/plain": [
       "deque(['left',\n",
       "       'for',\n",
       "       'items',\n",
       "       'new',\n",
       "       'are',\n",
       "       'these',\n",
       "       32,\n",
       "       44,\n",
       "       13,\n",
       "       39,\n",
       "       45,\n",
       "       6,\n",
       "       29,\n",
       "       13,\n",
       "       35,\n",
       "       30,\n",
       "       'these',\n",
       "       'are',\n",
       "       'new',\n",
       "       'items'])"
      ]
     },
     "execution_count": 20,
     "metadata": {},
     "output_type": "execute_result"
    }
   ],
   "source": [
    "dq.extendleft([\"these\", \"are\", \"new\", \"items\", \"for\", \"left\"])\n",
    "dq"
   ]
  },
  {
   "cell_type": "markdown",
   "id": "2d4aa0c1",
   "metadata": {},
   "source": [
    "#### remove\n",
    "\n",
    "removes the first occurrance of the value from the deque"
   ]
  },
  {
   "cell_type": "code",
   "execution_count": 21,
   "id": "6e5de730",
   "metadata": {},
   "outputs": [
    {
     "data": {
      "text/plain": [
       "deque(['left',\n",
       "       'for',\n",
       "       'items',\n",
       "       'new',\n",
       "       'are',\n",
       "       32,\n",
       "       44,\n",
       "       13,\n",
       "       39,\n",
       "       45,\n",
       "       6,\n",
       "       29,\n",
       "       13,\n",
       "       35,\n",
       "       30,\n",
       "       'these',\n",
       "       'are',\n",
       "       'new',\n",
       "       'items'])"
      ]
     },
     "execution_count": 21,
     "metadata": {},
     "output_type": "execute_result"
    }
   ],
   "source": [
    "dq.remove(\"these\")\n",
    "dq"
   ]
  },
  {
   "cell_type": "markdown",
   "id": "26c4f148",
   "metadata": {},
   "source": [
    "#### count\n",
    "\n",
    "counts the all occurrances of the value from the deque"
   ]
  },
  {
   "cell_type": "code",
   "execution_count": 22,
   "id": "5f02daf2",
   "metadata": {},
   "outputs": [
    {
     "data": {
      "text/plain": [
       "2"
      ]
     },
     "execution_count": 22,
     "metadata": {},
     "output_type": "execute_result"
    }
   ],
   "source": [
    "dq.count(\"items\")"
   ]
  },
  {
   "cell_type": "code",
   "execution_count": 23,
   "id": "9502377f",
   "metadata": {},
   "outputs": [
    {
     "data": {
      "text/plain": [
       "19"
      ]
     },
     "execution_count": 23,
     "metadata": {},
     "output_type": "execute_result"
    }
   ],
   "source": [
    "len(dq)"
   ]
  },
  {
   "cell_type": "markdown",
   "id": "398490a1",
   "metadata": {},
   "source": [
    "#### maxlen\n",
    "\n",
    "we can specify the max length to the deque"
   ]
  },
  {
   "cell_type": "code",
   "execution_count": 28,
   "id": "f1f21e6c",
   "metadata": {},
   "outputs": [],
   "source": [
    "# initializing deque with max length\n",
    "dq1 = deque(maxlen=3)"
   ]
  },
  {
   "cell_type": "code",
   "execution_count": 32,
   "id": "36924a72",
   "metadata": {},
   "outputs": [
    {
     "data": {
      "text/plain": [
       "deque([8, 7, 2], maxlen=3)"
      ]
     },
     "execution_count": 32,
     "metadata": {},
     "output_type": "execute_result"
    }
   ],
   "source": [
    "dq1.append(8)\n",
    "dq1.append(7)\n",
    "dq1.append(2)\n",
    "dq1"
   ]
  },
  {
   "cell_type": "code",
   "execution_count": 33,
   "id": "a7ab35c7",
   "metadata": {},
   "outputs": [
    {
     "data": {
      "text/plain": [
       "deque([7, 2, 5], maxlen=3)"
      ]
     },
     "execution_count": 33,
     "metadata": {},
     "output_type": "execute_result"
    }
   ],
   "source": [
    "# now let's add another item\n",
    "dq1.append(5)\n",
    "dq1"
   ]
  },
  {
   "cell_type": "markdown",
   "id": "020974e6",
   "metadata": {},
   "source": [
    "we saw. it is not erroring out, rather, it is adding towards right (as it is append method) by replacing the first item"
   ]
  },
  {
   "cell_type": "code",
   "execution_count": 34,
   "id": "472772c2",
   "metadata": {},
   "outputs": [
    {
     "data": {
      "text/plain": [
       "deque([2, 5, 10], maxlen=3)"
      ]
     },
     "execution_count": 34,
     "metadata": {},
     "output_type": "execute_result"
    }
   ],
   "source": [
    "# now let's add another item\n",
    "dq1.append(10)\n",
    "dq1"
   ]
  },
  {
   "cell_type": "code",
   "execution_count": 35,
   "id": "35157244",
   "metadata": {},
   "outputs": [
    {
     "data": {
      "text/plain": [
       "deque([11, 2, 5], maxlen=3)"
      ]
     },
     "execution_count": 35,
     "metadata": {},
     "output_type": "execute_result"
    }
   ],
   "source": [
    "# now let's add another item\n",
    "dq1.appendleft(11)\n",
    "dq1"
   ]
  }
 ],
 "metadata": {
  "kernelspec": {
   "display_name": ".venv",
   "language": "python",
   "name": "python3"
  },
  "language_info": {
   "codemirror_mode": {
    "name": "ipython",
    "version": 3
   },
   "file_extension": ".py",
   "mimetype": "text/x-python",
   "name": "python",
   "nbconvert_exporter": "python",
   "pygments_lexer": "ipython3",
   "version": "3.12.9"
  }
 },
 "nbformat": 4,
 "nbformat_minor": 5
}
