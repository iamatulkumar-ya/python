{
 "cells": [
  {
   "cell_type": "markdown",
   "id": "3fdea67e",
   "metadata": {},
   "source": [
    "### Python Deque (Collections)"
   ]
  },
  {
   "cell_type": "markdown",
   "id": "3eebdb98",
   "metadata": {},
   "source": [
    "Performance Comparison: List vs Deque\n",
    "\n",
    "The performance of list and deque varies significantly based on the type of operation being performed:\n",
    "<table> \n",
    "<tr> <td> Operation</td> <td> List (O Complexity) </td> <td>  Deque (O Complexity) </td> </tr>\n",
    "<tr> <td> Append at end </td> <td> O(1) </td> <td>  O(1) </td> </tr>\n",
    "<tr> <td> Insert at beginning </td> <td> O(n) </td> <td>  O(1) </td> </tr>\n",
    "<tr> <td> Delete at end </td> <td> O(1) </td> <td>  O(1) </td> </tr>\n",
    "<tr> <td> Delete at beginning </td> <td> O(n) </td> <td>  O(1) </td> </tr>\n",
    "<tr> <td> Random access </td> <td> O(1) </td> <td>  O(n) </td> </tr>\n",
    "</table>\n",
    "\t\t\n",
    " \n",
    "\t \n"
   ]
  },
  {
   "cell_type": "code",
   "execution_count": 8,
   "id": "0c5ab0a1",
   "metadata": {},
   "outputs": [],
   "source": [
    "from collections import deque\n",
    "import sys"
   ]
  },
  {
   "cell_type": "code",
   "execution_count": 6,
   "id": "ff0ef3ad",
   "metadata": {},
   "outputs": [],
   "source": [
    "dq = deque()\n",
    "dq.append(5)\n",
    "dq.append(2)\n",
    "dq.append(2)"
   ]
  },
  {
   "cell_type": "code",
   "execution_count": 7,
   "id": "706841fc",
   "metadata": {},
   "outputs": [
    {
     "data": {
      "text/plain": [
       "deque([5, 2, 2])"
      ]
     },
     "execution_count": 7,
     "metadata": {},
     "output_type": "execute_result"
    }
   ],
   "source": [
    "dq"
   ]
  },
  {
   "cell_type": "code",
   "execution_count": 10,
   "id": "beb97915",
   "metadata": {},
   "outputs": [
    {
     "name": "stdout",
     "output_type": "stream",
     "text": [
      "<class 'collections.deque'>\n",
      "760\n"
     ]
    }
   ],
   "source": [
    "print(type(dq))\n",
    "print(sys.getsizeof(dq))"
   ]
  },
  {
   "cell_type": "code",
   "execution_count": 11,
   "id": "ea8131bd",
   "metadata": {},
   "outputs": [
    {
     "name": "stdout",
     "output_type": "stream",
     "text": [
      "[5, 2, 2]\n",
      "<class 'list'>\n",
      "88\n"
     ]
    }
   ],
   "source": [
    "li = list()\n",
    "li.append(5)\n",
    "li.append(2)\n",
    "li.append(2)\n",
    "print(li)\n",
    "print(type(li))\n",
    "print(sys.getsizeof(li))"
   ]
  }
 ],
 "metadata": {
  "kernelspec": {
   "display_name": ".venv",
   "language": "python",
   "name": "python3"
  },
  "language_info": {
   "codemirror_mode": {
    "name": "ipython",
    "version": 3
   },
   "file_extension": ".py",
   "mimetype": "text/x-python",
   "name": "python",
   "nbconvert_exporter": "python",
   "pygments_lexer": "ipython3",
   "version": "3.12.10"
  }
 },
 "nbformat": 4,
 "nbformat_minor": 5
}
