{
 "cells": [
  {
   "cell_type": "code",
   "execution_count": null,
   "metadata": {
    "colab": {
     "base_uri": "https://localhost:8080/"
    },
    "executionInfo": {
     "elapsed": 24485,
     "status": "ok",
     "timestamp": 1751396629493,
     "user": {
      "displayName": "Atul Kumar Yadav",
      "userId": "12658605241506806003"
     },
     "user_tz": -330
    },
    "id": "_uRFdpXUW4Dz",
    "outputId": "29093b11-ea29-4860-811d-40bb7ec13d32"
   },
   "outputs": [],
   "source": [
    "! pip install pymongo\n",
    "! pip install dnspython\n",
    "! pip install python-dotenv"
   ]
  },
  {
   "cell_type": "code",
   "execution_count": 1,
   "metadata": {
    "executionInfo": {
     "elapsed": 94,
     "status": "ok",
     "timestamp": 1751396629592,
     "user": {
      "displayName": "Atul Kumar Yadav",
      "userId": "12658605241506806003"
     },
     "user_tz": -330
    },
    "id": "56-OacfgXosS"
   },
   "outputs": [],
   "source": [
    "from pymongo import MongoClient\n",
    "import os\n",
    "import dotenv\n"
   ]
  },
  {
   "cell_type": "markdown",
   "metadata": {
    "id": "HrEHAmZcbU4N"
   },
   "source": [
    "#### Connectivity"
   ]
  },
  {
   "cell_type": "markdown",
   "metadata": {},
   "source": [
    "##### Google colab"
   ]
  },
  {
   "cell_type": "code",
   "execution_count": null,
   "metadata": {},
   "outputs": [],
   "source": [
    "# # google colab access\n",
    "# from google.colab import userdata\n",
    "# mUser = userdata.get('optimus_mongodb_all_user')\n",
    "# mPwd = userdata.get('optimus_mongodb_all_user_pwd')\n",
    "# mCluster = userdata.get('optimus_mongodb_cluster')"
   ]
  },
  {
   "cell_type": "markdown",
   "metadata": {},
   "source": [
    "##### OS environ"
   ]
  },
  {
   "cell_type": "code",
   "execution_count": null,
   "metadata": {},
   "outputs": [],
   "source": [
    "# os environ\n",
    "dotenv.load_dotenv(os.path.join(os.path.dirname(os.getcwd()), \"env\", \"optimus_mongo.env\"))\n",
    "mUser = os.environ['optimus_mongodb_all_user']\n",
    "mPwd = os.environ['optimus_mongodb_all_user_pwd']\n",
    "mCluster = os.environ['optimus_mongodb_cluster']"
   ]
  },
  {
   "cell_type": "code",
   "execution_count": null,
   "metadata": {},
   "outputs": [],
   "source": [
    "connection_url = f\"mongodb+srv://{mUser}:{mPwd}@{mCluster}\""
   ]
  },
  {
   "cell_type": "code",
   "execution_count": null,
   "metadata": {
    "executionInfo": {
     "elapsed": 1201,
     "status": "ok",
     "timestamp": 1751396632398,
     "user": {
      "displayName": "Atul Kumar Yadav",
      "userId": "12658605241506806003"
     },
     "user_tz": -330
    },
    "id": "C9vWNYFsY__7"
   },
   "outputs": [],
   "source": [
    "mongo_client = MongoClient(connection_url) "
   ]
  },
  {
   "cell_type": "code",
   "execution_count": null,
   "metadata": {
    "executionInfo": {
     "elapsed": 84,
     "status": "ok",
     "timestamp": 1751396632747,
     "user": {
      "displayName": "Atul Kumar Yadav",
      "userId": "12658605241506806003"
     },
     "user_tz": -330
    },
    "id": "8nkJ1HB4ZL8E"
   },
   "outputs": [],
   "source": [
    "mongo_db = mongo_client['groceries_dataset']"
   ]
  },
  {
   "cell_type": "code",
   "execution_count": null,
   "metadata": {
    "executionInfo": {
     "elapsed": 10,
     "status": "ok",
     "timestamp": 1751396686855,
     "user": {
      "displayName": "Atul Kumar Yadav",
      "userId": "12658605241506806003"
     },
     "user_tz": -330
    },
    "id": "Yjp2e3p7Zb_O"
   },
   "outputs": [],
   "source": [
    "customersColl = mongo_db['customers']\n",
    "employeesColl = mongo_db['employees']\n",
    "salesColl = mongo_db['sales']\n",
    "productsColl = mongo_db['products']\n"
   ]
  },
  {
   "cell_type": "markdown",
   "metadata": {
    "id": "qPtqtC9r6Hxl"
   },
   "source": [
    "### Customers Collection"
   ]
  },
  {
   "cell_type": "markdown",
   "metadata": {
    "id": "9IUVDpd4bZKJ"
   },
   "source": [
    "#### Fetching sample record from customers collection - using find"
   ]
  },
  {
   "cell_type": "code",
   "execution_count": null,
   "metadata": {
    "executionInfo": {
     "elapsed": 455,
     "status": "ok",
     "timestamp": 1751396770027,
     "user": {
      "displayName": "Atul Kumar Yadav",
      "userId": "12658605241506806003"
     },
     "user_tz": -330
    },
    "id": "4T4U1KWiZfY0"
   },
   "outputs": [],
   "source": [
    "resultSet = []\n",
    "\n",
    "cursorSet = customersColl.find({})\n",
    "\n",
    "for item in cursorSet:\n",
    "  resultSet.append(item)\n",
    "  break"
   ]
  },
  {
   "cell_type": "code",
   "execution_count": null,
   "metadata": {
    "colab": {
     "base_uri": "https://localhost:8080/"
    },
    "executionInfo": {
     "elapsed": 17,
     "status": "ok",
     "timestamp": 1751396770827,
     "user": {
      "displayName": "Atul Kumar Yadav",
      "userId": "12658605241506806003"
     },
     "user_tz": -330
    },
    "id": "LaKeov6dbQkQ",
    "outputId": "d02001cc-a3da-44af-f909-587de07b1110"
   },
   "outputs": [],
   "source": [
    "resultSet"
   ]
  },
  {
   "cell_type": "markdown",
   "metadata": {
    "id": "hRw2TOS4jHMs"
   },
   "source": [
    "#### Fetching sample record from customers collection - using match\n",
    "aggreate -> match gives us control over modifying the result set"
   ]
  },
  {
   "cell_type": "code",
   "execution_count": null,
   "metadata": {
    "colab": {
     "base_uri": "https://localhost:8080/"
    },
    "executionInfo": {
     "elapsed": 310,
     "status": "ok",
     "timestamp": 1751396809471,
     "user": {
      "displayName": "Atul Kumar Yadav",
      "userId": "12658605241506806003"
     },
     "user_tz": -330
    },
    "id": "GznL3vRsjG6E",
    "outputId": "c6ad1a2e-6924-4283-b352-568e108f8e32"
   },
   "outputs": [],
   "source": [
    "customersColl.aggregate([{'$match':{\"CustomerID\":17}}]).to_list()"
   ]
  },
  {
   "cell_type": "markdown",
   "metadata": {
    "id": "mH2OK1JRbdth"
   },
   "source": [
    "#### Get the total count of customer status group by values"
   ]
  },
  {
   "cell_type": "code",
   "execution_count": null,
   "metadata": {
    "colab": {
     "base_uri": "https://localhost:8080/"
    },
    "executionInfo": {
     "elapsed": 326,
     "status": "ok",
     "timestamp": 1751397877104,
     "user": {
      "displayName": "Atul Kumar Yadav",
      "userId": "12658605241506806003"
     },
     "user_tz": -330
    },
    "id": "ljGHMv-6cAcr",
    "outputId": "d7682d20-cf44-4b51-fb42-b14fa0d2ae7f"
   },
   "outputs": [],
   "source": [
    "# getting count of customers basis upon city\n",
    "customersColl.aggregate([\n",
    "    {'$group': {\n",
    "    '_id':'$CityName',    # if we do not keep $ here, then it will give us total count of customers for all the cities together\n",
    "    'totalCount': {'$count': {}}\n",
    "}},\n",
    "\n",
    "   {'$sort': {\"_id\": -1}},\n",
    "                         {'$limit':5}]).to_list()"
   ]
  },
  {
   "cell_type": "code",
   "execution_count": null,
   "metadata": {
    "colab": {
     "base_uri": "https://localhost:8080/"
    },
    "executionInfo": {
     "elapsed": 306,
     "status": "ok",
     "timestamp": 1751397839580,
     "user": {
      "displayName": "Atul Kumar Yadav",
      "userId": "12658605241506806003"
     },
     "user_tz": -330
    },
    "id": "-rn_-_ynaYYx",
    "outputId": "f8943004-a918-4a3e-e381-204dfdf2555f"
   },
   "outputs": [],
   "source": [
    "# getting count of customers basis upon city -\n",
    "customersColl.aggregate([{'$group': {\n",
    "    '_id':'$CityName',    # if we do not keep $ here, then it will give us total count of customers for all the cities together\n",
    "    'totalCount': {'$count': {}}\n",
    "}},\n",
    "\n",
    "   {'$sort': {\"_id\": 1}},\n",
    "                           {'$limit':5}]).to_list()"
   ]
  },
  {
   "cell_type": "markdown",
   "metadata": {
    "id": "I01fK3pvj0cj"
   },
   "source": [
    "#### group by multiple columns"
   ]
  },
  {
   "cell_type": "code",
   "execution_count": null,
   "metadata": {
    "colab": {
     "base_uri": "https://localhost:8080/"
    },
    "executionInfo": {
     "elapsed": 309,
     "status": "ok",
     "timestamp": 1751397824523,
     "user": {
      "displayName": "Atul Kumar Yadav",
      "userId": "12658605241506806003"
     },
     "user_tz": -330
    },
    "id": "ELqdQ8K9j4xq",
    "outputId": "e45aab7f-b0e5-4812-a473-d715247eff22"
   },
   "outputs": [],
   "source": [
    "customersColl.aggregate([\n",
    "    {'$group':{ '_id': {\n",
    "        '_CityName': '$CityName',\n",
    "        '_CountryName' : '$CountryName'\n",
    "    },\n",
    "     'totalCustomersCount':{'$count': {}}}},\n",
    "    {'$sort': {\n",
    "        '_id._CityName' : 1\n",
    "    }},\n",
    "    {'$limit': 5}\n",
    "]).to_list()"
   ]
  },
  {
   "cell_type": "markdown",
   "metadata": {
    "id": "A1QvCJ946DYB"
   },
   "source": [
    "### Employees Collection"
   ]
  },
  {
   "cell_type": "markdown",
   "metadata": {
    "id": "ZaZPazN7dMRq"
   },
   "source": [
    "#### Sample Record"
   ]
  },
  {
   "cell_type": "code",
   "execution_count": null,
   "metadata": {
    "colab": {
     "base_uri": "https://localhost:8080/"
    },
    "executionInfo": {
     "elapsed": 380,
     "status": "ok",
     "timestamp": 1751400648513,
     "user": {
      "displayName": "Atul Kumar Yadav",
      "userId": "12658605241506806003"
     },
     "user_tz": -330
    },
    "id": "SB-Or1fIcy79",
    "outputId": "4f89adee-e808-48da-b7c1-d1d04334a287"
   },
   "outputs": [],
   "source": [
    "print(employeesColl.count_documents({}))\n",
    "employeesColl.find({}).limit(1)[0]"
   ]
  },
  {
   "cell_type": "markdown",
   "metadata": {
    "id": "f9O2P7codQft"
   },
   "source": [
    "### Products Collection"
   ]
  },
  {
   "cell_type": "markdown",
   "metadata": {
    "id": "s4jE7wBYdV7X"
   },
   "source": [
    "#### Sample record"
   ]
  },
  {
   "cell_type": "code",
   "execution_count": null,
   "metadata": {
    "colab": {
     "base_uri": "https://localhost:8080/"
    },
    "executionInfo": {
     "elapsed": 412,
     "status": "ok",
     "timestamp": 1751398364867,
     "user": {
      "displayName": "Atul Kumar Yadav",
      "userId": "12658605241506806003"
     },
     "user_tz": -330
    },
    "id": "55-16fxVdZTk",
    "outputId": "a75320e1-d837-450e-a254-a479a8b4ad37"
   },
   "outputs": [],
   "source": [
    "print(productsColl.count_documents({}))\n",
    "productsColl.find({}).limit(1)[0]"
   ]
  },
  {
   "cell_type": "markdown",
   "metadata": {
    "id": "zBvsxbSjeo-q"
   },
   "source": [
    "#### group the products with class"
   ]
  },
  {
   "cell_type": "code",
   "execution_count": null,
   "metadata": {
    "colab": {
     "base_uri": "https://localhost:8080/"
    },
    "executionInfo": {
     "elapsed": 181,
     "status": "ok",
     "timestamp": 1751398576135,
     "user": {
      "displayName": "Atul Kumar Yadav",
      "userId": "12658605241506806003"
     },
     "user_tz": -330
    },
    "id": "NkZW6CYrdQIK",
    "outputId": "d9b92364-92fa-445f-f336-a47cda389641"
   },
   "outputs": [],
   "source": [
    "productsColl.aggregate([\n",
    "    {'$group': {\n",
    "        '_id':'$Class',\n",
    "        'totalProductsCount': {'$count':{}}\n",
    "    }\n",
    "}]).to_list()"
   ]
  },
  {
   "cell_type": "markdown",
   "metadata": {
    "id": "5cGSIJ-dhVNX"
   },
   "source": [
    "#### find the costly item in products"
   ]
  },
  {
   "cell_type": "code",
   "execution_count": null,
   "metadata": {
    "colab": {
     "base_uri": "https://localhost:8080/"
    },
    "executionInfo": {
     "elapsed": 197,
     "status": "ok",
     "timestamp": 1751399170177,
     "user": {
      "displayName": "Atul Kumar Yadav",
      "userId": "12658605241506806003"
     },
     "user_tz": -330
    },
    "id": "bukui9oP6JtK",
    "outputId": "a16d1a4f-8be9-4b26-f55a-bf501846704b"
   },
   "outputs": [],
   "source": [
    "productsColl.find({}).sort(\"Price\", -1).limit(1).to_list() # taking first sample doc"
   ]
  },
  {
   "cell_type": "markdown",
   "metadata": {
    "id": "iwxPpNfChxWb"
   },
   "source": [
    "### Sales Collection"
   ]
  },
  {
   "cell_type": "markdown",
   "metadata": {
    "id": "IgqH_NBLh1Cx"
   },
   "source": [
    "#### sample data"
   ]
  },
  {
   "cell_type": "code",
   "execution_count": null,
   "metadata": {
    "colab": {
     "base_uri": "https://localhost:8080/"
    },
    "executionInfo": {
     "elapsed": 517,
     "status": "ok",
     "timestamp": 1751399242263,
     "user": {
      "displayName": "Atul Kumar Yadav",
      "userId": "12658605241506806003"
     },
     "user_tz": -330
    },
    "id": "toGXDbw9h3DO",
    "outputId": "dcd7bc73-16c6-433b-e927-161d33737c73"
   },
   "outputs": [],
   "source": [
    "print(salesColl.count_documents({}))\n",
    "salesColl.find({}).limit(1)[0]"
   ]
  },
  {
   "cell_type": "markdown",
   "metadata": {
    "id": "sHO6vtWGibjY"
   },
   "source": [
    "#### month wise sales count"
   ]
  },
  {
   "cell_type": "code",
   "execution_count": null,
   "metadata": {
    "colab": {
     "base_uri": "https://localhost:8080/"
    },
    "executionInfo": {
     "elapsed": 959,
     "status": "ok",
     "timestamp": 1751400310131,
     "user": {
      "displayName": "Atul Kumar Yadav",
      "userId": "12658605241506806003"
     },
     "user_tz": -330
    },
    "id": "fElKuIlPibUj",
    "outputId": "41084f64-09ba-4ff8-cc53-3e222e41c12e"
   },
   "outputs": [],
   "source": [
    "salesColl.aggregate([\n",
    "    # first we have to project the month, basically preparing the data for group\n",
    "    {\n",
    "        '$project': {\n",
    "            'month' : {'$month': {'$toDate': '$SalesDate'}}, # need to convert this into date format\n",
    "            'year' : {'$year': {'$toDate': '$SalesDate'}} # need to convert this into date format\n",
    "        }\n",
    "    },\n",
    "    {\n",
    "    '$group': {\n",
    "        '_id': {\n",
    "            '_year':'$year',\n",
    "            '_month':'$month'\n",
    "        },\n",
    "        'totalSalesCount': {'$count': {}}\n",
    "      }\n",
    "    },\n",
    "    {\n",
    "        '$sort': {\"totalSalesCount\": -1}\n",
    "    }\n",
    "    ]).to_list()"
   ]
  },
  {
   "cell_type": "markdown",
   "metadata": {
    "id": "Y5-POISAmFGP"
   },
   "source": [
    "#### get the SalesPersonID who has max sales"
   ]
  },
  {
   "cell_type": "code",
   "execution_count": null,
   "metadata": {
    "colab": {
     "base_uri": "https://localhost:8080/"
    },
    "executionInfo": {
     "elapsed": 343,
     "status": "ok",
     "timestamp": 1751401444229,
     "user": {
      "displayName": "Atul Kumar Yadav",
      "userId": "12658605241506806003"
     },
     "user_tz": -330
    },
    "id": "36mfgF3HmRJ9",
    "outputId": "2b9fb2eb-c94d-4fe9-9036-48b6a3fc70b9"
   },
   "outputs": [],
   "source": [
    "salesColl.aggregate([\n",
    "    {\n",
    "        '$group': {\n",
    "            '_id': '$SalesPersonID' ,\n",
    "            'totalSalesCount' : {'$count' : {}}\n",
    "        }\n",
    "    },\n",
    "    {\n",
    "        '$sort': { 'totalSalesCount' : -1}\n",
    "    }\n",
    "]).to_list()"
   ]
  },
  {
   "cell_type": "markdown",
   "metadata": {
    "id": "hS3ShsDV8C2X"
   },
   "source": [
    "### Combined Queries"
   ]
  },
  {
   "cell_type": "markdown",
   "metadata": {
    "id": "_xdy7ck0m255"
   },
   "source": [
    "#### Get the name of the employee who has max sales count"
   ]
  },
  {
   "cell_type": "code",
   "execution_count": null,
   "metadata": {
    "id": "f6dd2qYZm7DC"
   },
   "outputs": [],
   "source": []
  },
  {
   "cell_type": "markdown",
   "metadata": {
    "id": "-f8REY4u8EuJ"
   },
   "source": [
    "#### Total Count of orders for each product category"
   ]
  },
  {
   "cell_type": "code",
   "execution_count": null,
   "metadata": {
    "id": "W2qbADT9m6rV"
   },
   "outputs": [],
   "source": [
    "[\n",
    "  {\n",
    "    $lookup: {\n",
    "      from: \"employees\",\n",
    "      localField: \"SalesPersonID\",\n",
    "      foreignField: \"EmployeeID\",\n",
    "      pipeline: [\n",
    "        {\n",
    "          $project: {\n",
    "            EmployeeName: {\n",
    "              $concat: [\n",
    "                \"$FirstName\",\n",
    "                \" \",\n",
    "                \"$MiddleInitial\",\n",
    "                \" \",\n",
    "                \"$LastName\",\n",
    "              ],\n",
    "            },\n",
    "          },\n",
    "        },\n",
    "        {$group: {\n",
    "          '_id' : \"$SalesPersonID\",\n",
    "          \"totalCount\" : {$count : {}}\n",
    "        }},\n",
    "        { $limit: 1 },\n",
    "      ],\n",
    "      as: \"EmployeeInfo\",\n",
    "    },\n",
    "  },\n",
    "]"
   ]
  },
  {
   "cell_type": "code",
   "execution_count": null,
   "metadata": {
    "colab": {
     "base_uri": "https://localhost:8080/",
     "height": 321
    },
    "executionInfo": {
     "elapsed": 249791,
     "status": "error",
     "timestamp": 1751054418934,
     "user": {
      "displayName": "Atul Kumar Yadav",
      "userId": "12658605241506806003"
     },
     "user_tz": -330
    },
    "id": "H5jKQN9w8J1e",
    "outputId": "0e1aaa08-3e8d-4dd8-ef8b-ca7b250f2236"
   },
   "outputs": [],
   "source": [
    "product_collection.aggregate([{\n",
    "    \"$lookup\": {\n",
    "        \"from\": \"orders\",\n",
    "        \"localField\": \"product_id\",\n",
    "        \"foreignField\": \"product_id\",\n",
    "        \"pipeline\": [{\n",
    "            \"$group\": {\"_id\": \"order_id\", \"totalOrders\": {\"$count\": {}}}\n",
    "        }],\n",
    "        \"as\":\"totalOrdersInfo\"\n",
    "    }\n",
    "}]).to_list()[0]"
   ]
  },
  {
   "cell_type": "code",
   "execution_count": null,
   "metadata": {
    "id": "6Hec18Oyzd-V"
   },
   "outputs": [],
   "source": [
    "[\n",
    "  {\n",
    "    $facet: {\n",
    "      maxSalesCountEmpID: [\n",
    "        {\n",
    "          $group: {\n",
    "            _id: \"$SalesPersonID\",\n",
    "            totalSalesCount: { $count: {} },\n",
    "          },\n",
    "        },\n",
    "        { $sort: { totalSalesCount: -1 } },\n",
    "        {\n",
    "          $project: {\n",
    "            _id: 1,\n",
    "          },\n",
    "        },\n",
    "      ],\n",
    "      maxSalesCountEmpInfo: [\n",
    "        {\n",
    "          $lookup: {\n",
    "            from: \"employees\",\n",
    "            localField: \"EmployeeID\",\n",
    "            foreignField: \"SalesPersonID\",\n",
    "            pipeline: [\n",
    "              {\n",
    "                $match: {\n",
    "                  EmployeeID: 5,\n",
    "                },\n",
    "              },\n",
    "              {$limit :5},\n",
    "              {$project: {\n",
    "                'SalesPersonID':1,\n",
    "                'EmployeeInfo':1\n",
    "              }}\n",
    "            ],\n",
    "            as: \"EmployeeInfo\",\n",
    "          },\n",
    "        },\n",
    "        {$limit :1},\n",
    "      ],\n",
    "    },\n",
    "  },\n",
    "  { $unwind: \"$maxSalesCountEmpID\"},\n",
    "  {$limit :5}\n",
    "]"
   ]
  }
 ],
 "metadata": {
  "colab": {
   "authorship_tag": "ABX9TyP66ud4qzdv44PDEesD6Z+H",
   "provenance": []
  },
  "kernelspec": {
   "display_name": ".venv",
   "language": "python",
   "name": "python3"
  },
  "language_info": {
   "codemirror_mode": {
    "name": "ipython",
    "version": 3
   },
   "file_extension": ".py",
   "mimetype": "text/x-python",
   "name": "python",
   "nbconvert_exporter": "python",
   "pygments_lexer": "ipython3",
   "version": "3.12.10"
  }
 },
 "nbformat": 4,
 "nbformat_minor": 0
}
