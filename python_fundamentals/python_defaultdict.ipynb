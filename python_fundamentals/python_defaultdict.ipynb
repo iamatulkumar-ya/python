{
 "cells": [
  {
   "cell_type": "markdown",
   "id": "3fdea67e",
   "metadata": {},
   "source": [
    "### Python Defaultdict (Collections)"
   ]
  },
  {
   "cell_type": "code",
   "execution_count": 1,
   "id": "0c5ab0a1",
   "metadata": {},
   "outputs": [],
   "source": [
    "from collections import defaultdict\n",
    "import sys\n",
    "import random"
   ]
  },
  {
   "cell_type": "code",
   "execution_count": 16,
   "id": "ff0ef3ad",
   "metadata": {},
   "outputs": [],
   "source": [
    "# initializing default dict\n",
    "dfdict = defaultdict()  \n",
    " "
   ]
  },
  {
   "cell_type": "markdown",
   "id": "8da9cc83",
   "metadata": {},
   "source": [
    "so, while initailization of defaultdict, we can pass datatypes or even leave it blank\n",
    "passed datatypes defines the return value in case key is not exists\n",
    "\n",
    "str -> ''\n",
    "\n",
    "int -> 0\n",
    "\n",
    "list -> []\n",
    "\n",
    "dict -> {}"
   ]
  },
  {
   "cell_type": "code",
   "execution_count": 17,
   "id": "3fac8411",
   "metadata": {},
   "outputs": [
    {
     "ename": "KeyError",
     "evalue": "'KeyNotThere'",
     "output_type": "error",
     "traceback": [
      "\u001b[31m---------------------------------------------------------------------------\u001b[39m",
      "\u001b[31mKeyError\u001b[39m                                  Traceback (most recent call last)",
      "\u001b[36mCell\u001b[39m\u001b[36m \u001b[39m\u001b[32mIn[17]\u001b[39m\u001b[32m, line 2\u001b[39m\n\u001b[32m      1\u001b[39m \u001b[38;5;66;03m# so if nothing is specified then it will raise key error\u001b[39;00m\n\u001b[32m----> \u001b[39m\u001b[32m2\u001b[39m \u001b[43mdfdict\u001b[49m\u001b[43m[\u001b[49m\u001b[33;43m\"\u001b[39;49m\u001b[33;43mKeyNotThere\u001b[39;49m\u001b[33;43m\"\u001b[39;49m\u001b[43m]\u001b[49m\n",
      "\u001b[31mKeyError\u001b[39m: 'KeyNotThere'"
     ]
    }
   ],
   "source": [
    "# so if nothing is specified then it will raise key error\n",
    "dfdict[\"KeyNotThere\"]"
   ]
  },
  {
   "cell_type": "code",
   "execution_count": 18,
   "id": "1d2a4ad6",
   "metadata": {},
   "outputs": [
    {
     "data": {
      "text/plain": [
       "''"
      ]
     },
     "execution_count": 18,
     "metadata": {},
     "output_type": "execute_result"
    }
   ],
   "source": [
    "# str type\n",
    "strdfdict = defaultdict(str)\n",
    "strdfdict[\"KeyNotThere\"]"
   ]
  },
  {
   "cell_type": "code",
   "execution_count": null,
   "id": "cf79e3e3",
   "metadata": {},
   "outputs": [
    {
     "data": {
      "text/plain": [
       "0"
      ]
     },
     "execution_count": 19,
     "metadata": {},
     "output_type": "execute_result"
    }
   ],
   "source": [
    "# int type \n",
    "intdfdict = defaultdict(int)\n",
    "intdfdict[\"KeyNotThere\"]"
   ]
  },
  {
   "cell_type": "code",
   "execution_count": 20,
   "id": "bd4d6c3b",
   "metadata": {},
   "outputs": [
    {
     "data": {
      "text/plain": [
       "[]"
      ]
     },
     "execution_count": 20,
     "metadata": {},
     "output_type": "execute_result"
    }
   ],
   "source": [
    "# list type \n",
    "listdfdict = defaultdict(list)\n",
    "listdfdict[\"KeyNotThere\"]"
   ]
  },
  {
   "cell_type": "code",
   "execution_count": 21,
   "id": "3b787575",
   "metadata": {},
   "outputs": [
    {
     "data": {
      "text/plain": [
       "{}"
      ]
     },
     "execution_count": 21,
     "metadata": {},
     "output_type": "execute_result"
    }
   ],
   "source": [
    "# dict type \n",
    "dictdfdict = defaultdict(dict)\n",
    "dictdfdict[\"KeyNotThere\"]"
   ]
  },
  {
   "cell_type": "code",
   "execution_count": 22,
   "id": "9390a0f2",
   "metadata": {},
   "outputs": [
    {
     "ename": "KeyError",
     "evalue": "'KeyNotThere'",
     "output_type": "error",
     "traceback": [
      "\u001b[31m---------------------------------------------------------------------------\u001b[39m",
      "\u001b[31mKeyError\u001b[39m                                  Traceback (most recent call last)",
      "\u001b[36mCell\u001b[39m\u001b[36m \u001b[39m\u001b[32mIn[22]\u001b[39m\u001b[32m, line 3\u001b[39m\n\u001b[32m      1\u001b[39m \u001b[38;5;66;03m# None type  ?? \u001b[39;00m\n\u001b[32m      2\u001b[39m nonedfdict = defaultdict(\u001b[38;5;28;01mNone\u001b[39;00m)\n\u001b[32m----> \u001b[39m\u001b[32m3\u001b[39m \u001b[43mnonedfdict\u001b[49m\u001b[43m[\u001b[49m\u001b[33;43m\"\u001b[39;49m\u001b[33;43mKeyNotThere\u001b[39;49m\u001b[33;43m\"\u001b[39;49m\u001b[43m]\u001b[49m\n",
      "\u001b[31mKeyError\u001b[39m: 'KeyNotThere'"
     ]
    }
   ],
   "source": [
    "# None type  ?? \n",
    "nonedfdict = defaultdict(None)\n",
    "nonedfdict[\"KeyNotThere\"]"
   ]
  },
  {
   "cell_type": "markdown",
   "id": "69bfd5a8",
   "metadata": {},
   "source": [
    "so, what if we decide to set str type and can we insert hetrogenous data in that ? let's try"
   ]
  },
  {
   "cell_type": "code",
   "execution_count": 23,
   "id": "0e74562c",
   "metadata": {},
   "outputs": [
    {
     "data": {
      "text/plain": [
       "''"
      ]
     },
     "execution_count": 23,
     "metadata": {},
     "output_type": "execute_result"
    }
   ],
   "source": [
    "# str type \n",
    "strdfdict2 = defaultdict(str)\n",
    "strdfdict2[\"KeyNotThere\"]"
   ]
  },
  {
   "cell_type": "code",
   "execution_count": 24,
   "id": "723ce4c0",
   "metadata": {},
   "outputs": [],
   "source": [
    "# adding another value\n",
    "strdfdict2[\"KeyOne\"] = 1"
   ]
  },
  {
   "cell_type": "code",
   "execution_count": 25,
   "id": "43b7b8c6",
   "metadata": {},
   "outputs": [
    {
     "data": {
      "text/plain": [
       "1"
      ]
     },
     "execution_count": 25,
     "metadata": {},
     "output_type": "execute_result"
    }
   ],
   "source": [
    "strdfdict2[\"KeyOne\"]"
   ]
  }
 ],
 "metadata": {
  "kernelspec": {
   "display_name": ".venv",
   "language": "python",
   "name": "python3"
  },
  "language_info": {
   "codemirror_mode": {
    "name": "ipython",
    "version": 3
   },
   "file_extension": ".py",
   "mimetype": "text/x-python",
   "name": "python",
   "nbconvert_exporter": "python",
   "pygments_lexer": "ipython3",
   "version": "3.12.10"
  }
 },
 "nbformat": 4,
 "nbformat_minor": 5
}
