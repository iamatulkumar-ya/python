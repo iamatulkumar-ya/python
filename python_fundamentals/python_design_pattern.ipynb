{
 "cells": [
  {
   "cell_type": "markdown",
   "id": "079b96f5",
   "metadata": {},
   "source": [
    "### Design Pattern"
   ]
  },
  {
   "cell_type": "markdown",
   "id": "2090f901",
   "metadata": {},
   "source": [
    "#### Singleton Design Pattern\n",
    "Ensures that only one instance of the class is created, preventing multiple instances from causing conflicts or consuming unnecessary resources."
   ]
  },
  {
   "cell_type": "code",
   "execution_count": 1,
   "id": "2f2f6569",
   "metadata": {},
   "outputs": [],
   "source": [
    "class Singleton:\n",
    "\n",
    "    _instance = None # variable to store the instance of a class\n",
    "\n",
    "    def __new__(cls, *args, **kwargs):\n",
    "        if cls._instance is None:\n",
    "            print(\"creating obj\")\n",
    "            cls._instance = super().__new__(cls) # used super because class is an instance of tpye class\n",
    "        \n",
    "        return cls._instance\n",
    "\n",
    "\n",
    "    def __init__(self, data):\n",
    "        print(\"inside init\")\n",
    "        if not hasattr(self, '_initialized'): # this will ensure we have single instance of a class\n",
    "            self.data = data\n",
    "            self._initialized = True\n",
    "\n",
    "    \n",
    "    def print_data(self):\n",
    "        return self.data"
   ]
  },
  {
   "cell_type": "code",
   "execution_count": null,
   "id": "0eb2cd96",
   "metadata": {},
   "outputs": [
    {
     "name": "stdout",
     "output_type": "stream",
     "text": [
      "creating obj\n",
      "inside init\n",
      "Data 1\n",
      "2252984462240\n",
      "inside init\n",
      "Data 1\n",
      "2252984462240\n"
     ]
    }
   ],
   "source": [
    "# creating a object for a class\n",
    "obj1 = Singleton(\"Data 1\")\n",
    "print(obj1.print_data())     # Data 1\n",
    "print(id(obj1))\n",
    "\n",
    "obj2 = Singleton(\"Data 2\")\n",
    "print(obj2.print_data())    # Data 1\n",
    "print(id(obj2))\n"
   ]
  }
 ],
 "metadata": {
  "kernelspec": {
   "display_name": ".venv",
   "language": "python",
   "name": "python3"
  },
  "language_info": {
   "codemirror_mode": {
    "name": "ipython",
    "version": 3
   },
   "file_extension": ".py",
   "mimetype": "text/x-python",
   "name": "python",
   "nbconvert_exporter": "python",
   "pygments_lexer": "ipython3",
   "version": "3.12.10"
  }
 },
 "nbformat": 4,
 "nbformat_minor": 5
}
