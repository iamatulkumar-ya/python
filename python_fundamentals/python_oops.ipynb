{
 "cells": [
  {
   "cell_type": "markdown",
   "metadata": {
    "id": "9OoFRJxd537X"
   },
   "source": [
    "Let's learn about python object oriented programming language"
   ]
  },
  {
   "cell_type": "code",
   "execution_count": null,
   "metadata": {
    "executionInfo": {
     "elapsed": 9,
     "status": "ok",
     "timestamp": 1749927940698,
     "user": {
      "displayName": "Atul Kumar Yadav",
      "userId": "12658605241506806003"
     },
     "user_tz": -330
    },
    "id": "E0BvNUwZxbWz"
   },
   "outputs": [],
   "source": [
    "import random"
   ]
  },
  {
   "cell_type": "markdown",
   "metadata": {
    "id": "06T7QSCf592w"
   },
   "source": [
    "### Python Class"
   ]
  },
  {
   "cell_type": "code",
   "execution_count": 41,
   "metadata": {
    "executionInfo": {
     "elapsed": 40,
     "status": "ok",
     "timestamp": 1749928468359,
     "user": {
      "displayName": "Atul Kumar Yadav",
      "userId": "12658605241506806003"
     },
     "user_tz": -330
    },
    "id": "7KDihEsJ6Crt"
   },
   "outputs": [],
   "source": [
    "class APIUtils:\n",
    "\n",
    "  # class variable\n",
    "  app_name = \"\"\n",
    "\n",
    "  def __init__(self, api_url):\n",
    "    # instance variable\n",
    "    self.api_url = api_url\n",
    "\n",
    "  # method\n",
    "  def get_api_header(self, id, pwd):\n",
    "    header = {}\n",
    "    header[\"Authorization\"] = f\"Basic {id}{pwd}\"\n",
    "    return header\n",
    "\n",
    "  # method\n",
    "  def order_api(self, payload: dict, auth_header:dict):\n",
    "    #response = requests.post(self.api_url, data=payload, headers=auth_header)\n",
    "    #return response\n",
    "    return(\"API is succeessfull\")\n"
   ]
  },
  {
   "cell_type": "code",
   "execution_count": 10,
   "metadata": {
    "colab": {
     "base_uri": "https://localhost:8080/"
    },
    "executionInfo": {
     "elapsed": 12,
     "status": "ok",
     "timestamp": 1749927039746,
     "user": {
      "displayName": "Atul Kumar Yadav",
      "userId": "12658605241506806003"
     },
     "user_tz": -330
    },
    "id": "Sn8Nb2Ohvq0C",
    "outputId": "a3e656d4-0ebb-424e-f422-798233e1a550"
   },
   "outputs": [
    {
     "data": {
      "text/plain": [
       "{'Authorization': 'Basic uidupwd'}"
      ]
     },
     "execution_count": 10,
     "metadata": {},
     "output_type": "execute_result"
    }
   ],
   "source": [
    "apiUtilsObj = APIUtils(\"mock\")\n",
    "apiUtilsObj.get_api_header(\"uid\", \"upwd\")"
   ]
  },
  {
   "cell_type": "markdown",
   "metadata": {
    "id": "OAssCqdSv2sF"
   },
   "source": [
    "### Inheritance\n",
    "\n",
    "> 1.   Single Inheritance: A child class inherited from Single Parent\n",
    "2.   Multiple Inheritance: A child class inherited from multiple Parent\n",
    "3.   Multilevel Inheritance: A child class inherited from Parent1 and, Parent1 gets ingerited from SuperParent1\n",
    "4.   Hierarchical Inheritance: Multiple child from single Parent\n",
    "5.   Hybrid Inheritance: A combination of any of two or more\n",
    "\n",
    "\n",
    "\n",
    "\n",
    "\n",
    "\n"
   ]
  },
  {
   "cell_type": "markdown",
   "metadata": {
    "id": "vpTAYSqC0SnQ"
   },
   "source": [
    "Single Inheritance: A child class inherited from Single Parent"
   ]
  },
  {
   "cell_type": "code",
   "execution_count": 61,
   "metadata": {
    "executionInfo": {
     "elapsed": 3,
     "status": "ok",
     "timestamp": 1749928753729,
     "user": {
      "displayName": "Atul Kumar Yadav",
      "userId": "12658605241506806003"
     },
     "user_tz": -330
    },
    "id": "n1sXHMngwL40"
   },
   "outputs": [],
   "source": [
    "class OrderAPI(APIUtils): #### Single Inheritance\n",
    "  def __init__(self, api_url, customerID): # we also must pass the parent constructor required parameters\n",
    "    super().__init__(api_url)\n",
    "    self.customerID = customerID\n",
    "\n",
    "  def prepare_order(self, order_details:dict):\n",
    "    return f\"Order is ready for customer {self.customerID}\"\n",
    "\n",
    "  def place_order(self, order_details:dict):\n",
    "    return f\"Order is placed for customer {self.customerID}. Please note this orderId - {random.randint(1000000, 100000000)}\"\n",
    "\n",
    "  def get_order_details_by_customerID(self, customerID):\n",
    "    return f\"There are {random.randint(10,100)} orders for customer - {customerID}\""
   ]
  },
  {
   "cell_type": "code",
   "execution_count": 29,
   "metadata": {
    "colab": {
     "base_uri": "https://localhost:8080/"
    },
    "executionInfo": {
     "elapsed": 50,
     "status": "ok",
     "timestamp": 1749927978915,
     "user": {
      "displayName": "Atul Kumar Yadav",
      "userId": "12658605241506806003"
     },
     "user_tz": -330
    },
    "id": "jucuts_ryeGE",
    "outputId": "aa148586-377d-402f-b862-4f2c1393d667"
   },
   "outputs": [
    {
     "name": "stdout",
     "output_type": "stream",
     "text": [
      "order_api_url\n",
      "{'Authorization': 'Basic order_idorder_pwd'}\n"
     ]
    }
   ],
   "source": [
    "orderApiObj = OrderAPI( \"order_api_url\", \"cust001\") # this object creation will assing api url to parent class\n",
    "print(orderApiObj.api_url) # used parent class method property\n",
    "print(orderApiObj.get_api_header(\"order_id\", \"order_pwd\")) # used parent class method as it is"
   ]
  },
  {
   "cell_type": "markdown",
   "metadata": {
    "id": "2CTNIrOM0Wnp"
   },
   "source": [
    "Multiple Inheritance: A child class inherited from multiple Parent"
   ]
  },
  {
   "cell_type": "code",
   "execution_count": 71,
   "metadata": {
    "executionInfo": {
     "elapsed": 13,
     "status": "ok",
     "timestamp": 1749929390995,
     "user": {
      "displayName": "Atul Kumar Yadav",
      "userId": "12658605241506806003"
     },
     "user_tz": -330
    },
    "id": "I4FXyxum0XrQ"
   },
   "outputs": [],
   "source": [
    "class AdminActions:\n",
    "\n",
    "  def __init__(self, admin_name):\n",
    "    self.admin_name = admin_name\n",
    "\n",
    "  def GetAdminTaskAuth(self):\n",
    "    return f\"User {self.admin_name} can perform this Task\"\n",
    "\n",
    "\n",
    "class Inventory(APIUtils, AdminActions): # Multiple Inheritance\n",
    "  def __init__(self, api_url, admin_name):\n",
    "    super().__init__(api_url) # this is set to first Parent only as per Method Resolution Order (MRO)\n",
    "    AdminActions.__init__(self, admin_name) # this way we have to set for another parent\n",
    "\n",
    "  def add_inventory(self, inventory_data:dict):\n",
    "    print(super().order_api({}, \"\"))\n",
    "    return f\"Data added into inventory by - {self.admin_name}\"\n",
    "\n",
    "  def update_inventory(self, inventory_data:dict):\n",
    "    return f\"Data updated into inventory by - {self.admin_name}\""
   ]
  },
  {
   "cell_type": "code",
   "execution_count": 72,
   "metadata": {
    "executionInfo": {
     "elapsed": 4,
     "status": "ok",
     "timestamp": 1749929391942,
     "user": {
      "displayName": "Atul Kumar Yadav",
      "userId": "12658605241506806003"
     },
     "user_tz": -330
    },
    "id": "H6iCUcRb0X5Y"
   },
   "outputs": [],
   "source": [
    "inventoryObj = Inventory(\"inventory_url\", \"admin01\")"
   ]
  },
  {
   "cell_type": "code",
   "execution_count": 73,
   "metadata": {
    "colab": {
     "base_uri": "https://localhost:8080/"
    },
    "executionInfo": {
     "elapsed": 14,
     "status": "ok",
     "timestamp": 1749929394608,
     "user": {
      "displayName": "Atul Kumar Yadav",
      "userId": "12658605241506806003"
     },
     "user_tz": -330
    },
    "id": "_Qaoa87s25ZV",
    "outputId": "d357a4b7-deea-4a8f-900a-dd09660ff6ca"
   },
   "outputs": [
    {
     "name": "stdout",
     "output_type": "stream",
     "text": [
      "inventory_url\n",
      "{'Authorization': 'Basic invenIDinvenPWD'}\n",
      "User admin01 can perform this Task\n",
      "API is succeessfull\n",
      "Data added into inventory by - admin01\n"
     ]
    }
   ],
   "source": [
    "print(inventoryObj.api_url) # accessing super parent class memeber\n",
    "print(inventoryObj.get_api_header(\"invenID\", \"invenPWD\"))\n",
    "print(inventoryObj.GetAdminTaskAuth()) # calling parent class memeber\n",
    "print(inventoryObj.add_inventory({})) # calling child class memeber"
   ]
  },
  {
   "cell_type": "markdown",
   "metadata": {
    "id": "3Bq3sMCE4Ax1"
   },
   "source": [
    "Multilevel Inheritance: A child class inherited from Parent1 and, Parent1 gets ingerited from SuperParent1"
   ]
  },
  {
   "cell_type": "code",
   "execution_count": 77,
   "metadata": {
    "executionInfo": {
     "elapsed": 8,
     "status": "ok",
     "timestamp": 1749929601633,
     "user": {
      "displayName": "Atul Kumar Yadav",
      "userId": "12658605241506806003"
     },
     "user_tz": -330
    },
    "id": "3Qutl5QF0YHY"
   },
   "outputs": [],
   "source": [
    "class Reporting(OrderAPI): # Multilevel Inheritance\n",
    "  def __init__(self, report_url, customerID):\n",
    "    super().__init__(report_url, customerID)\n",
    "\n",
    "  def get_order_report(self):\n",
    "    return self.get_order_details_by_customerID(self.customerID)\n"
   ]
  },
  {
   "cell_type": "code",
   "execution_count": 78,
   "metadata": {
    "executionInfo": {
     "elapsed": 3,
     "status": "ok",
     "timestamp": 1749929603472,
     "user": {
      "displayName": "Atul Kumar Yadav",
      "userId": "12658605241506806003"
     },
     "user_tz": -330
    },
    "id": "BCT7ZjPq0YTR"
   },
   "outputs": [],
   "source": [
    "reportingObj = Reporting(\"reports_url\", \"cust01\")"
   ]
  },
  {
   "cell_type": "code",
   "execution_count": 81,
   "metadata": {
    "colab": {
     "base_uri": "https://localhost:8080/"
    },
    "executionInfo": {
     "elapsed": 6,
     "status": "ok",
     "timestamp": 1749929654357,
     "user": {
      "displayName": "Atul Kumar Yadav",
      "userId": "12658605241506806003"
     },
     "user_tz": -330
    },
    "id": "AucpNrrB7wRg",
    "outputId": "d580e38f-678f-4412-eb5a-efef96f160dc"
   },
   "outputs": [
    {
     "data": {
      "text/plain": [
       "{'Authorization': 'Basic reportIDreportPWD'}"
      ]
     },
     "execution_count": 81,
     "metadata": {},
     "output_type": "execute_result"
    }
   ],
   "source": [
    "reportingObj.get_api_header(\"reportID\", \"reportPWD\")"
   ]
  },
  {
   "cell_type": "code",
   "execution_count": 80,
   "metadata": {
    "colab": {
     "base_uri": "https://localhost:8080/",
     "height": 35
    },
    "executionInfo": {
     "elapsed": 21,
     "status": "ok",
     "timestamp": 1749929619291,
     "user": {
      "displayName": "Atul Kumar Yadav",
      "userId": "12658605241506806003"
     },
     "user_tz": -330
    },
    "id": "4UNNJa0d7rtT",
    "outputId": "4e5fcabd-1840-4f4a-ef83-9802d4f4bba1"
   },
   "outputs": [
    {
     "data": {
      "application/vnd.google.colaboratory.intrinsic+json": {
       "type": "string"
      },
      "text/plain": [
       "'There are 87 orders for customer - cust01'"
      ]
     },
     "execution_count": 80,
     "metadata": {},
     "output_type": "execute_result"
    }
   ],
   "source": [
    "reportingObj.get_order_report()"
   ]
  },
  {
   "cell_type": "markdown",
   "metadata": {
    "id": "jzWwlQrn7834"
   },
   "source": [
    "### Polymorphism\n",
    "\n",
    "\n",
    "1.   Compile Time Polymorphism (Method Overloading) - does not exists in Python\n",
    "2.   Runtime Time Polymorphism (Method Overriding)\n",
    "\n"
   ]
  },
  {
   "cell_type": "markdown",
   "metadata": {
    "id": "izmMwFU08YLI"
   },
   "source": [
    "Runtime Time Polymorphism (Method Overriding)\n",
    "\n",
    "*When we override a method in a child class it's called overriding*"
   ]
  },
  {
   "cell_type": "code",
   "execution_count": 89,
   "metadata": {
    "executionInfo": {
     "elapsed": 5,
     "status": "ok",
     "timestamp": 1749930156250,
     "user": {
      "displayName": "Atul Kumar Yadav",
      "userId": "12658605241506806003"
     },
     "user_tz": -330
    },
    "id": "j0o07NMn78hD"
   },
   "outputs": [],
   "source": [
    "class LoginUtils(APIUtils): # inheriting APIUtils as a Single Inheritance\n",
    "  def __init__(self, api_url):\n",
    "    super().__init__(api_url) # setting it to parent class\n",
    "\n",
    "  # method\n",
    "  def get_api_header(self, id, pwd, scope): # overriding the actual implementation of this method form APIUtils\n",
    "    header = {}\n",
    "    header[\"Authorization\"] = f\"Bearer {id}{pwd}\"\n",
    "    return header\n",
    "\n"
   ]
  },
  {
   "cell_type": "code",
   "execution_count": 90,
   "metadata": {
    "executionInfo": {
     "elapsed": 7,
     "status": "ok",
     "timestamp": 1749930157319,
     "user": {
      "displayName": "Atul Kumar Yadav",
      "userId": "12658605241506806003"
     },
     "user_tz": -330
    },
    "id": "qK0tTyzQ9SL2"
   },
   "outputs": [],
   "source": [
    "loginUtilsObj = LoginUtils(\"login_api_url\")\n"
   ]
  },
  {
   "cell_type": "code",
   "execution_count": 93,
   "metadata": {
    "colab": {
     "base_uri": "https://localhost:8080/"
    },
    "executionInfo": {
     "elapsed": 10,
     "status": "ok",
     "timestamp": 1749930261302,
     "user": {
      "displayName": "Atul Kumar Yadav",
      "userId": "12658605241506806003"
     },
     "user_tz": -330
    },
    "id": "a2qs3Vue9Yq6",
    "outputId": "d95d78f5-0df7-4830-b97a-d8d19448100d"
   },
   "outputs": [
    {
     "name": "stdout",
     "output_type": "stream",
     "text": [
      "login_api_url\n",
      "{'Authorization': 'Bearer loginIdloginPwd'}\n"
     ]
    }
   ],
   "source": [
    "print(loginUtilsObj.api_url)\n",
    "print(loginUtilsObj.get_api_header(\"loginId\", \"loginPwd\", \"scope\")) # this will always gives a overridden method\n"
   ]
  },
  {
   "cell_type": "markdown",
   "metadata": {
    "id": "xqDs0aK--OGW"
   },
   "source": [
    "### Abstraction\n",
    "Expose only necessary things"
   ]
  },
  {
   "cell_type": "code",
   "execution_count": 94,
   "metadata": {
    "executionInfo": {
     "elapsed": 36,
     "status": "ok",
     "timestamp": 1749930350423,
     "user": {
      "displayName": "Atul Kumar Yadav",
      "userId": "12658605241506806003"
     },
     "user_tz": -330
    },
    "id": "abrKiNB8-Ty0"
   },
   "outputs": [],
   "source": [
    "from abc import ABC, abstractmethod, abstractproperty"
   ]
  },
  {
   "cell_type": "code",
   "execution_count": 99,
   "metadata": {
    "executionInfo": {
     "elapsed": 6,
     "status": "ok",
     "timestamp": 1749931142361,
     "user": {
      "displayName": "Atul Kumar Yadav",
      "userId": "12658605241506806003"
     },
     "user_tz": -330
    },
    "id": "0FD4K263_xvK"
   },
   "outputs": [],
   "source": [
    "class AuthUtils(ABC):\n",
    "\n",
    "  def __init__(self, auth_for) -> None:\n",
    "     self.auth_for = auth_for\n",
    "\n",
    "  @abstractmethod        # here we decorated with abstractmethod as we wanted to have this override in child class always\n",
    "  def get_auth_token(**args):\n",
    "    return \"No Implementation found\"\n",
    "\n",
    "  def validate_user(self, user_name):\n",
    "    return f\"{user_name} user has valid token for {self.auth_for} auth destination\"\n"
   ]
  },
  {
   "cell_type": "code",
   "execution_count": 100,
   "metadata": {
    "colab": {
     "base_uri": "https://localhost:8080/",
     "height": 141
    },
    "executionInfo": {
     "elapsed": 24,
     "status": "error",
     "timestamp": 1749931143764,
     "user": {
      "displayName": "Atul Kumar Yadav",
      "userId": "12658605241506806003"
     },
     "user_tz": -330
    },
    "id": "UIAKzBKbBLxm",
    "outputId": "53c49ff7-5fbf-4f93-9321-58d385f0d94f"
   },
   "outputs": [
    {
     "ename": "TypeError",
     "evalue": "Can't instantiate abstract class AuthUtils with abstract method get_auth_token",
     "output_type": "error",
     "traceback": [
      "\u001b[0;31m---------------------------------------------------------------------------\u001b[0m",
      "\u001b[0;31mTypeError\u001b[0m                                 Traceback (most recent call last)",
      "\u001b[0;32m<ipython-input-100-4163868417>\u001b[0m in \u001b[0;36m<cell line: 0>\u001b[0;34m()\u001b[0m\n\u001b[0;32m----> 1\u001b[0;31m \u001b[0mauthObj\u001b[0m \u001b[0;34m=\u001b[0m \u001b[0mAuthUtils\u001b[0m\u001b[0;34m(\u001b[0m\u001b[0;34m\"test\"\u001b[0m\u001b[0;34m)\u001b[0m \u001b[0;31m# ERROR: Can't instantiate abstract class AuthUtils with abstract method get_auth_token\u001b[0m\u001b[0;34m\u001b[0m\u001b[0;34m\u001b[0m\u001b[0m\n\u001b[0m",
      "\u001b[0;31mTypeError\u001b[0m: Can't instantiate abstract class AuthUtils with abstract method get_auth_token"
     ]
    }
   ],
   "source": [
    "authObj = AuthUtils(\"test\") # ERROR: Can't instantiate abstract class AuthUtils with abstract method get_auth_token"
   ]
  },
  {
   "cell_type": "code",
   "execution_count": 101,
   "metadata": {
    "executionInfo": {
     "elapsed": 4,
     "status": "ok",
     "timestamp": 1749931154573,
     "user": {
      "displayName": "Atul Kumar Yadav",
      "userId": "12658605241506806003"
     },
     "user_tz": -330
    },
    "id": "VbMzf8RT-hqR"
   },
   "outputs": [],
   "source": [
    "class TaskUtils(AuthUtils):\n",
    "\n",
    "  def __init__(self, auth_for, user_name, task_name) -> None:\n",
    "    super().__init__(auth_for)\n",
    "    self.user_name = user_name\n",
    "    self.task_name = task_name\n",
    "\n",
    "  def perform_task(self):\n",
    "    return f\"Task {self.task_name} has been completed\"\n",
    "\n",
    "  # we must override the abstract method\n",
    "  def get_auth_token(self, id, pwd):\n",
    "    return \"token_value\""
   ]
  },
  {
   "cell_type": "code",
   "execution_count": 102,
   "metadata": {
    "executionInfo": {
     "elapsed": 38,
     "status": "ok",
     "timestamp": 1749931156365,
     "user": {
      "displayName": "Atul Kumar Yadav",
      "userId": "12658605241506806003"
     },
     "user_tz": -330
    },
    "id": "NMUB5wKEA9C1"
   },
   "outputs": [],
   "source": [
    "taskUtilsObj = TaskUtils(\"inventory\", \"user007\", \"add_inventory\")"
   ]
  },
  {
   "cell_type": "code",
   "execution_count": 103,
   "metadata": {
    "colab": {
     "base_uri": "https://localhost:8080/"
    },
    "executionInfo": {
     "elapsed": 17,
     "status": "ok",
     "timestamp": 1749931235958,
     "user": {
      "displayName": "Atul Kumar Yadav",
      "userId": "12658605241506806003"
     },
     "user_tz": -330
    },
    "id": "0DaKeE0NA8z1",
    "outputId": "34c5bc76-0b37-4b46-b50b-549353b151c5"
   },
   "outputs": [
    {
     "name": "stdout",
     "output_type": "stream",
     "text": [
      "inventory\n",
      "user007\n",
      "add_inventory\n",
      "token_value\n",
      "user007 user has valid token for inventory auth destination\n",
      "Task add_inventory has been completed\n"
     ]
    }
   ],
   "source": [
    "print(taskUtilsObj.auth_for)\n",
    "print(taskUtilsObj.user_name)\n",
    "print(taskUtilsObj.task_name)\n",
    "print(taskUtilsObj.get_auth_token(\"a\",\"b\"))\n",
    "print(taskUtilsObj.validate_user(taskUtilsObj.user_name))\n",
    "print(taskUtilsObj.perform_task())"
   ]
  },
  {
   "cell_type": "markdown",
   "metadata": {
    "id": "fBQ7C479D8xd"
   },
   "source": [
    "### Encapsulation\n",
    "Related to access and modify things in python\n",
    "\n",
    "Natively things are not really encapsulated here in Python, However we can achieve this with other ways"
   ]
  },
  {
   "cell_type": "code",
   "execution_count": 133,
   "metadata": {
    "executionInfo": {
     "elapsed": 53,
     "status": "ok",
     "timestamp": 1749933077809,
     "user": {
      "displayName": "Atul Kumar Yadav",
      "userId": "12658605241506806003"
     },
     "user_tz": -330
    },
    "id": "dzWgULWPEA-w"
   },
   "outputs": [],
   "source": [
    "class EncrptionUtils:\n",
    "\n",
    "  def __init__(self):\n",
    "    self.masterKey = \"ugfi7tds8figsdf87tdsfy98ds6fydsf\"\n",
    "    self.cipher_value = None\n",
    "\n",
    "  # getter type of property\n",
    "  @property\n",
    "  def encrypt_text(self):\n",
    "    return self.cipher_value\n",
    "\n",
    "  # setter of a cipher_text property\n",
    "  @encrypt_text.setter\n",
    "  def encrypt_text(self, text): # we can not pass multiple parameters here\n",
    "    self.cipher_value = hash(text) # logic part\n"
   ]
  },
  {
   "cell_type": "code",
   "execution_count": 134,
   "metadata": {
    "executionInfo": {
     "elapsed": 8,
     "status": "ok",
     "timestamp": 1749933078738,
     "user": {
      "displayName": "Atul Kumar Yadav",
      "userId": "12658605241506806003"
     },
     "user_tz": -330
    },
    "id": "tkOpMxO6FcvA"
   },
   "outputs": [],
   "source": [
    "encObj = EncrptionUtils()"
   ]
  },
  {
   "cell_type": "code",
   "execution_count": 137,
   "metadata": {
    "colab": {
     "base_uri": "https://localhost:8080/",
     "height": 193
    },
    "executionInfo": {
     "elapsed": 75,
     "status": "error",
     "timestamp": 1749933107845,
     "user": {
      "displayName": "Atul Kumar Yadav",
      "userId": "12658605241506806003"
     },
     "user_tz": -330
    },
    "id": "nUVbhiKOFpzh",
    "outputId": "36f62039-d45f-4502-a22f-6ad0a3277785"
   },
   "outputs": [
    {
     "name": "stdout",
     "output_type": "stream",
     "text": [
      "None\n"
     ]
    },
    {
     "ename": "TypeError",
     "evalue": "EncrptionUtils.encrypt_text() missing 1 required positional argument: 'key'",
     "output_type": "error",
     "traceback": [
      "\u001b[0;31m---------------------------------------------------------------------------\u001b[0m",
      "\u001b[0;31mTypeError\u001b[0m                                 Traceback (most recent call last)",
      "\u001b[0;32m<ipython-input-137-173928766>\u001b[0m in \u001b[0;36m<cell line: 0>\u001b[0;34m()\u001b[0m\n\u001b[1;32m      1\u001b[0m \u001b[0mprint\u001b[0m\u001b[0;34m(\u001b[0m\u001b[0mencObj\u001b[0m\u001b[0;34m.\u001b[0m\u001b[0mcipher_value\u001b[0m\u001b[0;34m)\u001b[0m\u001b[0;34m\u001b[0m\u001b[0;34m\u001b[0m\u001b[0m\n\u001b[0;32m----> 2\u001b[0;31m \u001b[0mencObj\u001b[0m\u001b[0;34m.\u001b[0m\u001b[0mencrypt_text\u001b[0m \u001b[0;34m=\u001b[0m \u001b[0;34m{\u001b[0m\u001b[0;34m\"python is awesome\"\u001b[0m\u001b[0;34m,\u001b[0m \u001b[0;34m\"key1\"\u001b[0m\u001b[0;34m}\u001b[0m\u001b[0;34m\u001b[0m\u001b[0;34m\u001b[0m\u001b[0m\n\u001b[0m\u001b[1;32m      3\u001b[0m \u001b[0mprint\u001b[0m\u001b[0;34m(\u001b[0m\u001b[0mencObj\u001b[0m\u001b[0;34m.\u001b[0m\u001b[0mcipher_value\u001b[0m\u001b[0;34m)\u001b[0m\u001b[0;34m\u001b[0m\u001b[0;34m\u001b[0m\u001b[0m\n",
      "\u001b[0;31mTypeError\u001b[0m: EncrptionUtils.encrypt_text() missing 1 required positional argument: 'key'"
     ]
    }
   ],
   "source": [
    "print(encObj.cipher_value)\n",
    "encObj.encrypt_text = \"python is awesome\"\n",
    "print(encObj.cipher_value)"
   ]
  },
  {
   "cell_type": "markdown",
   "metadata": {
    "id": "I6tpx7DBINXz"
   },
   "source": [
    "Read Only Property"
   ]
  },
  {
   "cell_type": "code",
   "execution_count": 130,
   "metadata": {
    "executionInfo": {
     "elapsed": 13,
     "status": "ok",
     "timestamp": 1749932886647,
     "user": {
      "displayName": "Atul Kumar Yadav",
      "userId": "12658605241506806003"
     },
     "user_tz": -330
    },
    "id": "zSb-HdJtILQX"
   },
   "outputs": [],
   "source": [
    "class Temperature:\n",
    "    def __init__(self, celsius):\n",
    "        self._celsius = celsius\n",
    "\n",
    "    @property\n",
    "    def fahrenheit(self):\n",
    "        return self._celsius * 9/5 + 32\n",
    "\n"
   ]
  },
  {
   "cell_type": "code",
   "execution_count": 131,
   "metadata": {
    "colab": {
     "base_uri": "https://localhost:8080/"
    },
    "executionInfo": {
     "elapsed": 9,
     "status": "ok",
     "timestamp": 1749932907267,
     "user": {
      "displayName": "Atul Kumar Yadav",
      "userId": "12658605241506806003"
     },
     "user_tz": -330
    },
    "id": "bJRXXruTIPbB",
    "outputId": "07eb78dd-0677-4cd1-cef2-58771a4af7f2"
   },
   "outputs": [
    {
     "name": "stdout",
     "output_type": "stream",
     "text": [
      "32.0\n"
     ]
    }
   ],
   "source": [
    "t = Temperature(0)\n",
    "print(t.fahrenheit)  # Output: 32.0\n"
   ]
  },
  {
   "cell_type": "code",
   "execution_count": 132,
   "metadata": {
    "colab": {
     "base_uri": "https://localhost:8080/",
     "height": 141
    },
    "executionInfo": {
     "elapsed": 23,
     "status": "error",
     "timestamp": 1749932915155,
     "user": {
      "displayName": "Atul Kumar Yadav",
      "userId": "12658605241506806003"
     },
     "user_tz": -330
    },
    "id": "k-nnu_QxIR9Q",
    "outputId": "c3575b53-94d4-4bbf-d0eb-75d25b2de5b9"
   },
   "outputs": [
    {
     "ename": "AttributeError",
     "evalue": "property 'fahrenheit' of 'Temperature' object has no setter",
     "output_type": "error",
     "traceback": [
      "\u001b[0;31m---------------------------------------------------------------------------\u001b[0m",
      "\u001b[0;31mAttributeError\u001b[0m                            Traceback (most recent call last)",
      "\u001b[0;32m<ipython-input-132-835967582>\u001b[0m in \u001b[0;36m<cell line: 0>\u001b[0;34m()\u001b[0m\n\u001b[0;32m----> 1\u001b[0;31m \u001b[0mt\u001b[0m\u001b[0;34m.\u001b[0m\u001b[0mfahrenheit\u001b[0m \u001b[0;34m=\u001b[0m \u001b[0;36m87.0\u001b[0m\u001b[0;34m\u001b[0m\u001b[0;34m\u001b[0m\u001b[0m\n\u001b[0m",
      "\u001b[0;31mAttributeError\u001b[0m: property 'fahrenheit' of 'Temperature' object has no setter"
     ]
    }
   ],
   "source": [
    "t.fahrenheit = 87.0"
   ]
  }
 ],
 "metadata": {
  "colab": {
   "authorship_tag": "ABX9TyNqAyclHU5arhCUoUyxgyjS",
   "provenance": []
  },
  "kernelspec": {
   "display_name": "Python 3",
   "name": "python3"
  },
  "language_info": {
   "name": "python"
  }
 },
 "nbformat": 4,
 "nbformat_minor": 0
}
