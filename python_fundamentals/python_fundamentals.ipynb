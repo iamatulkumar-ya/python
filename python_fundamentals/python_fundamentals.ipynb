{
 "cells": [
  {
   "cell_type": "markdown",
   "id": "f62f70e3",
   "metadata": {},
   "source": [
    "#### Iterators\n",
    "helps in looping"
   ]
  },
  {
   "cell_type": "code",
   "execution_count": 5,
   "id": "7760ad64",
   "metadata": {},
   "outputs": [
    {
     "name": "stdout",
     "output_type": "stream",
     "text": [
      "p\n",
      "y\n",
      "t\n",
      "h\n",
      "o\n",
      "n\n"
     ]
    },
    {
     "ename": "StopIteration",
     "evalue": "",
     "output_type": "error",
     "traceback": [
      "\u001b[31m---------------------------------------------------------------------------\u001b[39m",
      "\u001b[31mStopIteration\u001b[39m                             Traceback (most recent call last)",
      "\u001b[36mCell\u001b[39m\u001b[36m \u001b[39m\u001b[32mIn[5]\u001b[39m\u001b[32m, line 12\u001b[39m\n\u001b[32m     10\u001b[39m \u001b[38;5;28mprint\u001b[39m(\u001b[38;5;28mnext\u001b[39m(it))\n\u001b[32m     11\u001b[39m \u001b[38;5;28mprint\u001b[39m(\u001b[38;5;28mnext\u001b[39m(it))\n\u001b[32m---> \u001b[39m\u001b[32m12\u001b[39m \u001b[38;5;28mprint\u001b[39m(\u001b[38;5;28;43mnext\u001b[39;49m\u001b[43m(\u001b[49m\u001b[43mit\u001b[49m\u001b[43m)\u001b[49m) \u001b[38;5;66;03m# throw an error as elements are completed now\u001b[39;00m\n",
      "\u001b[31mStopIteration\u001b[39m: "
     ]
    }
   ],
   "source": [
    "# iterator holds the response in a memory but return when we ask the value using next\n",
    "s = \"python\"\n",
    "\n",
    "it = iter(s)\n",
    "\n",
    "print(next(it))\n",
    "print(next(it))\n",
    "print(next(it))\n",
    "print(next(it))\n",
    "print(next(it))\n",
    "print(next(it))\n",
    "print(next(it)) # throw an error as elements are completed now"
   ]
  },
  {
   "cell_type": "markdown",
   "id": "2e9668c9",
   "metadata": {},
   "source": [
    "#### Generators\n",
    "gives value on demand using yield"
   ]
  },
  {
   "cell_type": "code",
   "execution_count": 2,
   "id": "b868d1f9",
   "metadata": {},
   "outputs": [
    {
     "name": "stdout",
     "output_type": "stream",
     "text": [
      "executed -  0\n",
      "apple\n"
     ]
    }
   ],
   "source": [
    "# generators does not hold data into the memory, it returns whenever asked\n",
    "# we use with functions\n",
    "fruits = [\"apple\", \"orange\", \"banana\", \"mango\", \"kiwi\"]\n",
    "\n",
    "def get_fruit_name(fruits:list):\n",
    "    for i, f in enumerate(fruits):\n",
    "        print(\"executed - \", i)\n",
    "        yield f\n",
    "\n",
    "\n",
    "\n",
    "generator = get_fruit_name(fruits)\n",
    "\n",
    "print(next(generator))\n",
    " # stop iteration error"
   ]
  },
  {
   "cell_type": "code",
   "execution_count": 3,
   "id": "744224c1",
   "metadata": {},
   "outputs": [
    {
     "name": "stdout",
     "output_type": "stream",
     "text": [
      "executed -  1\n",
      "orange\n",
      "executed -  2\n",
      "banana\n",
      "executed -  3\n",
      "mango\n",
      "executed -  4\n",
      "kiwi\n"
     ]
    },
    {
     "ename": "StopIteration",
     "evalue": "",
     "output_type": "error",
     "traceback": [
      "\u001b[31m---------------------------------------------------------------------------\u001b[39m",
      "\u001b[31mStopIteration\u001b[39m                             Traceback (most recent call last)",
      "\u001b[36mCell\u001b[39m\u001b[36m \u001b[39m\u001b[32mIn[3]\u001b[39m\u001b[32m, line 5\u001b[39m\n\u001b[32m      3\u001b[39m \u001b[38;5;28mprint\u001b[39m(\u001b[38;5;28mnext\u001b[39m(generator))\n\u001b[32m      4\u001b[39m \u001b[38;5;28mprint\u001b[39m(\u001b[38;5;28mnext\u001b[39m(generator))\n\u001b[32m----> \u001b[39m\u001b[32m5\u001b[39m \u001b[38;5;28mprint\u001b[39m(\u001b[38;5;28;43mnext\u001b[39;49m\u001b[43m(\u001b[49m\u001b[43mgenerator\u001b[49m\u001b[43m)\u001b[49m)\n",
      "\u001b[31mStopIteration\u001b[39m: "
     ]
    }
   ],
   "source": [
    "print(next(generator))\n",
    "print(next(generator))\n",
    "print(next(generator))\n",
    "print(next(generator))\n",
    "print(next(generator))"
   ]
  }
 ],
 "metadata": {
  "kernelspec": {
   "display_name": ".venv",
   "language": "python",
   "name": "python3"
  },
  "language_info": {
   "codemirror_mode": {
    "name": "ipython",
    "version": 3
   },
   "file_extension": ".py",
   "mimetype": "text/x-python",
   "name": "python",
   "nbconvert_exporter": "python",
   "pygments_lexer": "ipython3",
   "version": "3.12.10"
  }
 },
 "nbformat": 4,
 "nbformat_minor": 5
}
