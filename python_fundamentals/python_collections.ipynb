{
 "cells": [
  {
   "cell_type": "markdown",
   "id": "9236c52b",
   "metadata": {},
   "source": [
    "### Python Collections\n",
    "list, dict, set, tuple"
   ]
  },
  {
   "cell_type": "markdown",
   "id": "d03b01a8",
   "metadata": {},
   "source": [
    "#### List - mutable - ordered - duplicates - index based access"
   ]
  },
  {
   "cell_type": "code",
   "execution_count": 9,
   "id": "12c5e0a9",
   "metadata": {},
   "outputs": [],
   "source": [
    "li = [\"rose\", \"lily\", \"marigold\", \"lotus\", \"sunflower\"]"
   ]
  },
  {
   "cell_type": "code",
   "execution_count": 10,
   "id": "1e62a59e",
   "metadata": {},
   "outputs": [
    {
     "name": "stdout",
     "output_type": "stream",
     "text": [
      "2632211928256\n",
      "2632211928256\n",
      "['rose', 'lily', 'marigold', 'lotus', 'sunflower', 'daffodil']\n"
     ]
    }
   ],
   "source": [
    "# mutable\n",
    "print(id(li))\n",
    "li.append(\"daffodil\")\n",
    "print(id(li)) # memory location is not changing\n",
    "print(li)"
   ]
  },
  {
   "cell_type": "code",
   "execution_count": 11,
   "id": "ef825a1c",
   "metadata": {},
   "outputs": [
    {
     "name": "stdout",
     "output_type": "stream",
     "text": [
      "rose\n",
      "lotus\n"
     ]
    }
   ],
   "source": [
    "# ordered\n",
    "print(li[0])\n",
    "print(li[3])"
   ]
  },
  {
   "cell_type": "code",
   "execution_count": null,
   "id": "afd20c51",
   "metadata": {},
   "outputs": [
    {
     "name": "stdout",
     "output_type": "stream",
     "text": [
      "['rose', 'lily', 'marigold', 'lotus', 'sunflower', 'daffodil']\n",
      "None\n",
      "['rose', 'lily', 'marigold', 'lotus', 'sunflower', 'daffodil', 'rose']\n"
     ]
    }
   ],
   "source": [
    "# duplicate entries\n",
    "print(li)\n",
    "li.append(\"rose\")\n",
    "print(li)"
   ]
  },
  {
   "cell_type": "markdown",
   "id": "63e15f65",
   "metadata": {},
   "source": [
    "#### Dict - mutable - ordered - unique key - key based access"
   ]
  },
  {
   "cell_type": "code",
   "execution_count": 13,
   "id": "51eb9201",
   "metadata": {},
   "outputs": [
    {
     "name": "stdout",
     "output_type": "stream",
     "text": [
      "{'name': 'rose', 'fragrance': 'awesome'}\n"
     ]
    }
   ],
   "source": [
    "di = {\n",
    "    \"name\":\"rose\",\n",
    "    \"fragrance\":\"awesome\"\n",
    "}\n",
    "\n",
    "print(di)"
   ]
  },
  {
   "cell_type": "code",
   "execution_count": 14,
   "id": "ad308fe7",
   "metadata": {},
   "outputs": [
    {
     "name": "stdout",
     "output_type": "stream",
     "text": [
      "2632212293504\n",
      "{'name': 'rose', 'fragrance': 'awesome'}\n",
      "2632212293504\n",
      "{'name': 'rose', 'fragrance': 'awesome', 'price': '15rs.'}\n"
     ]
    }
   ],
   "source": [
    "# mutable\n",
    "print(id(di))\n",
    "print(di)\n",
    "di[\"price\"] = \"15rs.\"\n",
    "print(id(di))\n",
    "print(di)"
   ]
  },
  {
   "cell_type": "code",
   "execution_count": 15,
   "id": "17ba110d",
   "metadata": {},
   "outputs": [
    {
     "name": "stdout",
     "output_type": "stream",
     "text": [
      "rose\n",
      "15rs.\n"
     ]
    }
   ],
   "source": [
    "# ordered\n",
    "print(di[\"name\"])\n",
    "print(di[\"price\"])"
   ]
  },
  {
   "cell_type": "markdown",
   "id": "bae0205a",
   "metadata": {},
   "source": [
    "#### Set - mutable - unordered - unique  "
   ]
  },
  {
   "cell_type": "code",
   "execution_count": 1,
   "id": "48c82686",
   "metadata": {},
   "outputs": [
    {
     "name": "stdout",
     "output_type": "stream",
     "text": [
      "{'sunflower', 'rose'}\n"
     ]
    }
   ],
   "source": [
    "s = set()\n",
    "s.add(\"rose\")\n",
    "s.add(\"sunflower\")\n",
    "print(s)"
   ]
  },
  {
   "cell_type": "code",
   "execution_count": 2,
   "id": "68111f65",
   "metadata": {},
   "outputs": [
    {
     "name": "stdout",
     "output_type": "stream",
     "text": [
      "2872525818112\n",
      "{'sunflower', 'rose'}\n",
      "2872525818112\n",
      "{'sunflower', 'lotus', 'rose'}\n"
     ]
    }
   ],
   "source": [
    "# mutable\n",
    "print(id(s))\n",
    "print(s)\n",
    "s.add(\"lotus\")\n",
    "print(id(s))\n",
    "print(s)"
   ]
  },
  {
   "cell_type": "code",
   "execution_count": 3,
   "id": "556abeec",
   "metadata": {},
   "outputs": [],
   "source": [
    "# unique elemnts\n",
    "s.add(\"lotus\")"
   ]
  },
  {
   "cell_type": "code",
   "execution_count": 4,
   "id": "e6924cb9",
   "metadata": {},
   "outputs": [
    {
     "name": "stdout",
     "output_type": "stream",
     "text": [
      "sunflower\n",
      "lotus\n",
      "rose\n"
     ]
    }
   ],
   "source": [
    "# access elements of set \n",
    "for i in s:\n",
    "    print(i)"
   ]
  },
  {
   "cell_type": "markdown",
   "id": "76498442",
   "metadata": {},
   "source": [
    "#### Tuple - immutable - ordered - duplicate - index based  "
   ]
  },
  {
   "cell_type": "code",
   "execution_count": 5,
   "id": "c80a075a",
   "metadata": {},
   "outputs": [],
   "source": [
    "t = (\"rose\", \"lily\", \"marigold\", \"lotus\", \"sunflower\")\n",
    " \n",
    " "
   ]
  },
  {
   "cell_type": "code",
   "execution_count": 6,
   "id": "7a5cbc66",
   "metadata": {},
   "outputs": [
    {
     "name": "stdout",
     "output_type": "stream",
     "text": [
      "2872500886144\n",
      "('rose', 'lily', 'marigold', 'lotus', 'sunflower')\n",
      "2872525524416\n",
      "('rose', 'lily', 'marigold', 'lotus', 'sunflower', 'orchid', 'rose')\n"
     ]
    }
   ],
   "source": [
    "# immutable\n",
    "print(id(t))\n",
    "print(t)\n",
    "t = (\"rose\", \"lily\", \"marigold\", \"lotus\", \"sunflower\", \"orchid\", \"rose\")\n",
    "print(id(t))\n",
    "print(t)"
   ]
  },
  {
   "cell_type": "code",
   "execution_count": 7,
   "id": "98a0a823",
   "metadata": {},
   "outputs": [
    {
     "name": "stdout",
     "output_type": "stream",
     "text": [
      "rose\n",
      "orchid\n"
     ]
    }
   ],
   "source": [
    "# ordered\n",
    "print(t[0])\n",
    "print(t[5])"
   ]
  },
  {
   "cell_type": "code",
   "execution_count": 8,
   "id": "8d1ef1ad",
   "metadata": {},
   "outputs": [
    {
     "data": {
      "text/plain": [
       "[1, 3, 5, 5, 6, 9]"
      ]
     },
     "execution_count": 8,
     "metadata": {},
     "output_type": "execute_result"
    }
   ],
   "source": [
    "tp1 = (5,6,5,1,3,9)\n",
    "tp1\n",
    "sorted(tp1)"
   ]
  },
  {
   "cell_type": "markdown",
   "id": "b5f8155e",
   "metadata": {},
   "source": [
    "#### Array\n",
    "Array are homogenous in nature, means it can contain only single kind of data type"
   ]
  },
  {
   "cell_type": "code",
   "execution_count": 17,
   "id": "0fab26eb",
   "metadata": {},
   "outputs": [
    {
     "name": "stdout",
     "output_type": "stream",
     "text": [
      "2 1 3 6 4 5 8 9 3 7 8 3 "
     ]
    }
   ],
   "source": [
    "import array\n",
    "\n",
    "arr = array.array('i', [2,1,3,6,4,5,8,9,3,7,8,3])\n",
    "\n",
    "for i in arr:\n",
    "    print(i, end=' ')"
   ]
  },
  {
   "cell_type": "code",
   "execution_count": 18,
   "id": "134ca79f",
   "metadata": {},
   "outputs": [
    {
     "name": "stdout",
     "output_type": "stream",
     "text": [
      "array('i', [2, 1, 3, 6, 4, 5, 8, 9, 3, 7, 8, 3, 56])\n"
     ]
    }
   ],
   "source": [
    "# adding element in array\n",
    "arr.append(56)\n",
    "print(arr)"
   ]
  },
  {
   "cell_type": "code",
   "execution_count": null,
   "id": "f2b0dc5c",
   "metadata": {},
   "outputs": [
    {
     "name": "stdout",
     "output_type": "stream",
     "text": [
      "array('i', [2, 30, 1, 3, 6, 4, 5, 8, 9, 3, 7, 8, 3, 56])\n"
     ]
    }
   ],
   "source": [
    "# inserting an item at position \n",
    "arr.insert(1, 30)\n",
    "print(arr)"
   ]
  },
  {
   "cell_type": "code",
   "execution_count": null,
   "id": "5e84509b",
   "metadata": {},
   "outputs": [
    {
     "name": "stdout",
     "output_type": "stream",
     "text": [
      "array('i', [56, 3, 8, 7, 3, 9, 8, 5, 4, 6, 3, 1, 30, 2])\n"
     ]
    }
   ],
   "source": [
    "# reversing the array\n",
    "arr.reverse()\n",
    "print(arr)"
   ]
  },
  {
   "cell_type": "code",
   "execution_count": null,
   "id": "0ce34d23",
   "metadata": {},
   "outputs": [
    {
     "data": {
      "text/plain": [
       "[1, 2, 3, 3, 3, 4, 5, 6, 7, 8, 8, 9, 30, 56]"
      ]
     },
     "execution_count": 21,
     "metadata": {},
     "output_type": "execute_result"
    }
   ],
   "source": [
    "# sorting the array\n",
    "sorted(arr)"
   ]
  },
  {
   "cell_type": "code",
   "execution_count": 23,
   "id": "9accf93a",
   "metadata": {},
   "outputs": [
    {
     "data": {
      "text/plain": [
       "3"
      ]
     },
     "execution_count": 23,
     "metadata": {},
     "output_type": "execute_result"
    }
   ],
   "source": [
    "# count of the specific element in an array\n",
    "arr.count(3)"
   ]
  },
  {
   "cell_type": "markdown",
   "id": "913cb7ed",
   "metadata": {},
   "source": [
    "### Practice Work"
   ]
  },
  {
   "cell_type": "code",
   "execution_count": 75,
   "id": "7e5935ca",
   "metadata": {},
   "outputs": [
    {
     "name": "stdout",
     "output_type": "stream",
     "text": [
      "2632211589824\n",
      "rose\n",
      "2632212716144\n",
      "red rose\n"
     ]
    }
   ],
   "source": [
    "# string - immutable\n",
    "st=\"rose\"\n",
    "print(id(st))\n",
    "print(st)\n",
    "st=\"red \" + st\n",
    "print(id(st))\n",
    "print(st)\n"
   ]
  },
  {
   "cell_type": "code",
   "execution_count": null,
   "id": "9582cd0c",
   "metadata": {},
   "outputs": [],
   "source": [
    "l1 = [(1,2), (3,4), (5,6)]\n",
    "\n",
    "# need to print reverse like\n",
    "# [(2,1), (4,3), (6,5)] "
   ]
  },
  {
   "cell_type": "code",
   "execution_count": 68,
   "id": "18f70b6e",
   "metadata": {},
   "outputs": [
    {
     "name": "stdout",
     "output_type": "stream",
     "text": [
      "[(2, 1), (4, 3), (6, 5)]\n"
     ]
    }
   ],
   "source": [
    "l2 = []\n",
    "for item in l1:\n",
    "    tempList = list(item)\n",
    "    l2.append((tempList[1],tempList[0]))\n",
    "\n",
    "print(l2)"
   ]
  },
  {
   "cell_type": "code",
   "execution_count": 69,
   "id": "c05074f0",
   "metadata": {},
   "outputs": [],
   "source": [
    "t1 = ((1,2), (3,4), (5,6))\n",
    "\n",
    "# need to print reverse like\n",
    "# ((2,1), (4,3), (6,5)"
   ]
  },
  {
   "cell_type": "code",
   "execution_count": 70,
   "id": "56cb23d5",
   "metadata": {},
   "outputs": [
    {
     "name": "stdout",
     "output_type": "stream",
     "text": [
      "((2, 1), (4, 3), (6, 5))\n"
     ]
    }
   ],
   "source": [
    "templi = []\n",
    "for item in t1:\n",
    "    tempList = list(item)\n",
    "    templi.append((tempList[1],tempList[0]))\n",
    "\n",
    "t2 = tuple(templi)\n",
    "print(t2)\n"
   ]
  },
  {
   "cell_type": "code",
   "execution_count": 72,
   "id": "06ddffe5",
   "metadata": {},
   "outputs": [],
   "source": [
    "t3 = ((1,2,8,4,5), (3,4,5,9,4), (5,6,5,1,3,9))\n",
    "\n",
    "# need to print reverse and ordered\n"
   ]
  },
  {
   "cell_type": "code",
   "execution_count": 73,
   "id": "82163e30",
   "metadata": {},
   "outputs": [
    {
     "name": "stdout",
     "output_type": "stream",
     "text": [
      "([1, 2, 4, 5, 8], [3, 4, 4, 5, 9], [1, 3, 5, 5, 6, 9])\n"
     ]
    }
   ],
   "source": [
    "templi1 = []\n",
    "for item in t3:\n",
    "    tempList = list(item)\n",
    "    templi1.append((sorted(item)))\n",
    "\n",
    "t4 = tuple(templi1)\n",
    "print(t4)\n"
   ]
  },
  {
   "cell_type": "code",
   "execution_count": null,
   "id": "3979d78f",
   "metadata": {},
   "outputs": [],
   "source": []
  }
 ],
 "metadata": {
  "kernelspec": {
   "display_name": ".venv",
   "language": "python",
   "name": "python3"
  },
  "language_info": {
   "codemirror_mode": {
    "name": "ipython",
    "version": 3
   },
   "file_extension": ".py",
   "mimetype": "text/x-python",
   "name": "python",
   "nbconvert_exporter": "python",
   "pygments_lexer": "ipython3",
   "version": "3.12.10"
  }
 },
 "nbformat": 4,
 "nbformat_minor": 5
}
