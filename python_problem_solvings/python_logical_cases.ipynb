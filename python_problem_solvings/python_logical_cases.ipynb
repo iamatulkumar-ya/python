{
 "cells": [
  {
   "cell_type": "markdown",
   "id": "a0df3b73",
   "metadata": {},
   "source": [
    "### Python - Logical Cases "
   ]
  },
  {
   "cell_type": "markdown",
   "id": "834f6864",
   "metadata": {},
   "source": [
    "#### Reverse the order of below list elements\n",
    "[{4,1}, {5,1}, {8,3}]  =>  [{3,8}, {1,5}, {1,4}]"
   ]
  },
  {
   "cell_type": "code",
   "execution_count": 19,
   "id": "91599793",
   "metadata": {},
   "outputs": [
    {
     "name": "stdout",
     "output_type": "stream",
     "text": [
      "[(3, 8), (1, 5), (1, 4)]\n"
     ]
    }
   ],
   "source": [
    "li = [{4,1}, {5,1}, {8,3}]\n",
    "\n",
    "nli = []\n",
    "for i in range(len(li)-1, -1 , -1): \n",
    "    nli.append(tuple(sorted(list((li[i])))))\n",
    "\n",
    "print(nli)\n"
   ]
  },
  {
   "cell_type": "markdown",
   "id": "574488eb",
   "metadata": {},
   "source": [
    "#### Merge two dictionaries"
   ]
  },
  {
   "cell_type": "code",
   "execution_count": 20,
   "id": "e9612674",
   "metadata": {},
   "outputs": [
    {
     "name": "stdout",
     "output_type": "stream",
     "text": [
      "{'a': 1, 'b': 2, 'c': 3, 'd': 4}\n"
     ]
    }
   ],
   "source": [
    "d1 = {'a':1, 'b':2}\n",
    "d2 = {'c':3, 'd':4}\n",
    "\n",
    "print({**d1, **d2})"
   ]
  },
  {
   "cell_type": "code",
   "execution_count": 21,
   "id": "5f4024e6",
   "metadata": {},
   "outputs": [
    {
     "name": "stdout",
     "output_type": "stream",
     "text": [
      "{'a': 1, 'b': 2.1, 'c': 3, 'd': 4}\n"
     ]
    }
   ],
   "source": [
    "d1 = {'a':1, 'b':2}\n",
    "d2 = {'b':2.1, 'c':3, 'd':4}\n",
    "\n",
    "print({**d1, **d2})"
   ]
  }
 ],
 "metadata": {
  "kernelspec": {
   "display_name": ".venv",
   "language": "python",
   "name": "python3"
  },
  "language_info": {
   "codemirror_mode": {
    "name": "ipython",
    "version": 3
   },
   "file_extension": ".py",
   "mimetype": "text/x-python",
   "name": "python",
   "nbconvert_exporter": "python",
   "pygments_lexer": "ipython3",
   "version": "3.12.10"
  }
 },
 "nbformat": 4,
 "nbformat_minor": 5
}
