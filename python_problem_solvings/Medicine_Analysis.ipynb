{
 "cells": [
  {
   "cell_type": "markdown",
   "metadata": {},
   "source": [
    "### Medicine Analysis"
   ]
  },
  {
   "cell_type": "code",
   "execution_count": 7,
   "metadata": {},
   "outputs": [],
   "source": [
    "import os\n",
    "import json\n",
    "import pandas as pd\n",
    "import numpy as np"
   ]
  },
  {
   "cell_type": "code",
   "execution_count": 4,
   "metadata": {},
   "outputs": [
    {
     "data": {
      "text/plain": [
       "'d:\\\\WorkSpace\\\\Python\\\\Problem_Solving\\\\datasets'"
      ]
     },
     "execution_count": 4,
     "metadata": {},
     "output_type": "execute_result"
    }
   ],
   "source": [
    "datasets_dir = os.path.join(os.getcwd(), \"datasets\")\n",
    "datasets_dir"
   ]
  },
  {
   "cell_type": "code",
   "execution_count": 6,
   "metadata": {},
   "outputs": [
    {
     "name": "stderr",
     "output_type": "stream",
     "text": [
      "C:\\Users\\Bumblebee\\AppData\\Local\\Temp\\ipykernel_14984\\2083779609.py:1: DtypeWarning: Columns (42,43,44,45,46,47,48) have mixed types. Specify dtype option on import or set low_memory=False.\n",
      "  df =pd.read_csv(os.path.join(datasets_dir, \"medicine_dataset.csv\"))\n"
     ]
    }
   ],
   "source": [
    "df =pd.read_csv(os.path.join(datasets_dir, \"medicine_dataset.csv\"))"
   ]
  },
  {
   "cell_type": "code",
   "execution_count": 8,
   "metadata": {},
   "outputs": [],
   "source": [
    "df.replace(np.nan, '', inplace=True)"
   ]
  },
  {
   "cell_type": "code",
   "execution_count": 20,
   "metadata": {},
   "outputs": [
    {
     "data": {
      "text/plain": [
       "Index(['id', 'name', 'substitute0', 'substitute1', 'substitute2',\n",
       "       'substitute3', 'substitute4', 'sideEffect0', 'sideEffect1',\n",
       "       'sideEffect2', 'sideEffect3', 'sideEffect4', 'sideEffect5',\n",
       "       'sideEffect6', 'sideEffect7', 'sideEffect8', 'sideEffect9',\n",
       "       'sideEffect10', 'sideEffect11', 'sideEffect12', 'sideEffect13',\n",
       "       'sideEffect14', 'sideEffect15', 'sideEffect16', 'sideEffect17',\n",
       "       'sideEffect18', 'sideEffect19', 'sideEffect20', 'sideEffect21',\n",
       "       'sideEffect22', 'sideEffect23', 'sideEffect24', 'sideEffect25',\n",
       "       'sideEffect26', 'sideEffect27', 'sideEffect28', 'sideEffect29',\n",
       "       'sideEffect30', 'sideEffect31', 'sideEffect32', 'sideEffect33',\n",
       "       'sideEffect34', 'sideEffect35', 'sideEffect36', 'sideEffect37',\n",
       "       'sideEffect38', 'sideEffect39', 'sideEffect40', 'sideEffect41', 'use0',\n",
       "       'use1', 'use2', 'use3', 'use4', 'Chemical Class', 'Habit Forming',\n",
       "       'Therapeutic Class', 'Action Class'],\n",
       "      dtype='object')"
      ]
     },
     "execution_count": 20,
     "metadata": {},
     "output_type": "execute_result"
    }
   ],
   "source": [
    "df.columns"
   ]
  },
  {
   "cell_type": "code",
   "execution_count": 43,
   "metadata": {},
   "outputs": [
    {
     "data": {
      "text/html": [
       "<div>\n",
       "<style scoped>\n",
       "    .dataframe tbody tr th:only-of-type {\n",
       "        vertical-align: middle;\n",
       "    }\n",
       "\n",
       "    .dataframe tbody tr th {\n",
       "        vertical-align: top;\n",
       "    }\n",
       "\n",
       "    .dataframe thead th {\n",
       "        text-align: right;\n",
       "    }\n",
       "</style>\n",
       "<table border=\"1\" class=\"dataframe\">\n",
       "  <thead>\n",
       "    <tr style=\"text-align: right;\">\n",
       "      <th></th>\n",
       "      <th>id</th>\n",
       "      <th>name</th>\n",
       "      <th>substitute0</th>\n",
       "      <th>substitute1</th>\n",
       "      <th>substitute2</th>\n",
       "      <th>substitute3</th>\n",
       "      <th>substitute4</th>\n",
       "      <th>sideEffect0</th>\n",
       "      <th>sideEffect1</th>\n",
       "      <th>sideEffect2</th>\n",
       "      <th>...</th>\n",
       "      <th>sideEffect41</th>\n",
       "      <th>use0</th>\n",
       "      <th>use1</th>\n",
       "      <th>use2</th>\n",
       "      <th>use3</th>\n",
       "      <th>use4</th>\n",
       "      <th>Chemical Class</th>\n",
       "      <th>Habit Forming</th>\n",
       "      <th>Therapeutic Class</th>\n",
       "      <th>Action Class</th>\n",
       "    </tr>\n",
       "  </thead>\n",
       "  <tbody>\n",
       "    <tr>\n",
       "      <th>0</th>\n",
       "      <td>1</td>\n",
       "      <td>augmentin 625 duo tablet</td>\n",
       "      <td>Penciclav 500 mg/125 mg Tablet</td>\n",
       "      <td>Moxikind-CV 625 Tablet</td>\n",
       "      <td>Moxiforce-CV 625 Tablet</td>\n",
       "      <td>Fightox 625 Tablet</td>\n",
       "      <td>Novamox CV 625mg Tablet</td>\n",
       "      <td>Vomiting</td>\n",
       "      <td>Nausea</td>\n",
       "      <td>Diarrhea</td>\n",
       "      <td>...</td>\n",
       "      <td></td>\n",
       "      <td>Treatment of Bacterial infections</td>\n",
       "      <td></td>\n",
       "      <td></td>\n",
       "      <td></td>\n",
       "      <td></td>\n",
       "      <td></td>\n",
       "      <td>No</td>\n",
       "      <td>ANTI INFECTIVES</td>\n",
       "      <td></td>\n",
       "    </tr>\n",
       "    <tr>\n",
       "      <th>1</th>\n",
       "      <td>2</td>\n",
       "      <td>azithral 500 tablet</td>\n",
       "      <td>Zithrocare 500mg Tablet</td>\n",
       "      <td>Azax 500 Tablet</td>\n",
       "      <td>Zady 500 Tablet</td>\n",
       "      <td>Cazithro 500mg Tablet</td>\n",
       "      <td>Trulimax 500mg Tablet</td>\n",
       "      <td>Vomiting</td>\n",
       "      <td>Nausea</td>\n",
       "      <td>Abdominal pain</td>\n",
       "      <td>...</td>\n",
       "      <td></td>\n",
       "      <td>Treatment of Bacterial infections</td>\n",
       "      <td></td>\n",
       "      <td></td>\n",
       "      <td></td>\n",
       "      <td></td>\n",
       "      <td>Macrolides</td>\n",
       "      <td>No</td>\n",
       "      <td>ANTI INFECTIVES</td>\n",
       "      <td>Macrolides</td>\n",
       "    </tr>\n",
       "    <tr>\n",
       "      <th>2</th>\n",
       "      <td>3</td>\n",
       "      <td>ascoril ls syrup</td>\n",
       "      <td>Solvin LS Syrup</td>\n",
       "      <td>Ambrodil-LX Syrup</td>\n",
       "      <td>Zerotuss XP Syrup</td>\n",
       "      <td>Capex LS Syrup</td>\n",
       "      <td>Broxum LS Syrup</td>\n",
       "      <td>Nausea</td>\n",
       "      <td>Vomiting</td>\n",
       "      <td>Diarrhea</td>\n",
       "      <td>...</td>\n",
       "      <td></td>\n",
       "      <td>Treatment of Cough with mucus</td>\n",
       "      <td></td>\n",
       "      <td></td>\n",
       "      <td></td>\n",
       "      <td></td>\n",
       "      <td></td>\n",
       "      <td>No</td>\n",
       "      <td>RESPIRATORY</td>\n",
       "      <td></td>\n",
       "    </tr>\n",
       "    <tr>\n",
       "      <th>3</th>\n",
       "      <td>4</td>\n",
       "      <td>allegra 120mg tablet</td>\n",
       "      <td>Lcfex Tablet</td>\n",
       "      <td>Etofex 120mg Tablet</td>\n",
       "      <td>Nexofex 120mg Tablet</td>\n",
       "      <td>Fexise 120mg Tablet</td>\n",
       "      <td>Histafree 120 Tablet</td>\n",
       "      <td>Headache</td>\n",
       "      <td>Drowsiness</td>\n",
       "      <td>Dizziness</td>\n",
       "      <td>...</td>\n",
       "      <td></td>\n",
       "      <td>Treatment of Sneezing and runny nose due to al...</td>\n",
       "      <td>Treatment of Allergic conditions</td>\n",
       "      <td></td>\n",
       "      <td></td>\n",
       "      <td></td>\n",
       "      <td>Diphenylmethane Derivative</td>\n",
       "      <td>No</td>\n",
       "      <td>RESPIRATORY</td>\n",
       "      <td>H1 Antihistaminics (second Generation)</td>\n",
       "    </tr>\n",
       "    <tr>\n",
       "      <th>4</th>\n",
       "      <td>5</td>\n",
       "      <td>avil 25 tablet</td>\n",
       "      <td>Eralet 25mg Tablet</td>\n",
       "      <td></td>\n",
       "      <td></td>\n",
       "      <td></td>\n",
       "      <td></td>\n",
       "      <td>Sleepiness</td>\n",
       "      <td>Dryness in mouth</td>\n",
       "      <td></td>\n",
       "      <td>...</td>\n",
       "      <td></td>\n",
       "      <td>Treatment of Allergic conditions</td>\n",
       "      <td></td>\n",
       "      <td></td>\n",
       "      <td></td>\n",
       "      <td></td>\n",
       "      <td>Pyridines Derivatives</td>\n",
       "      <td>No</td>\n",
       "      <td>RESPIRATORY</td>\n",
       "      <td>H1 Antihistaminics (First Generation)</td>\n",
       "    </tr>\n",
       "  </tbody>\n",
       "</table>\n",
       "<p>5 rows × 58 columns</p>\n",
       "</div>"
      ],
      "text/plain": [
       "   id                      name                     substitute0  \\\n",
       "0   1  augmentin 625 duo tablet  Penciclav 500 mg/125 mg Tablet   \n",
       "1   2       azithral 500 tablet         Zithrocare 500mg Tablet   \n",
       "2   3          ascoril ls syrup                 Solvin LS Syrup   \n",
       "3   4      allegra 120mg tablet                    Lcfex Tablet   \n",
       "4   5            avil 25 tablet              Eralet 25mg Tablet   \n",
       "\n",
       "              substitute1              substitute2            substitute3  \\\n",
       "0  Moxikind-CV 625 Tablet  Moxiforce-CV 625 Tablet     Fightox 625 Tablet   \n",
       "1         Azax 500 Tablet          Zady 500 Tablet  Cazithro 500mg Tablet   \n",
       "2       Ambrodil-LX Syrup        Zerotuss XP Syrup         Capex LS Syrup   \n",
       "3     Etofex 120mg Tablet     Nexofex 120mg Tablet    Fexise 120mg Tablet   \n",
       "4                                                                           \n",
       "\n",
       "               substitute4 sideEffect0       sideEffect1     sideEffect2  ...  \\\n",
       "0  Novamox CV 625mg Tablet    Vomiting            Nausea        Diarrhea  ...   \n",
       "1    Trulimax 500mg Tablet    Vomiting            Nausea  Abdominal pain  ...   \n",
       "2          Broxum LS Syrup      Nausea          Vomiting        Diarrhea  ...   \n",
       "3     Histafree 120 Tablet    Headache        Drowsiness       Dizziness  ...   \n",
       "4                           Sleepiness  Dryness in mouth                  ...   \n",
       "\n",
       "  sideEffect41                                               use0  \\\n",
       "0                               Treatment of Bacterial infections   \n",
       "1                               Treatment of Bacterial infections   \n",
       "2                                   Treatment of Cough with mucus   \n",
       "3               Treatment of Sneezing and runny nose due to al...   \n",
       "4                                Treatment of Allergic conditions   \n",
       "\n",
       "                               use1 use2 use3 use4  \\\n",
       "0                                                    \n",
       "1                                                    \n",
       "2                                                    \n",
       "3  Treatment of Allergic conditions                  \n",
       "4                                                    \n",
       "\n",
       "               Chemical Class Habit Forming Therapeutic Class  \\\n",
       "0                                        No   ANTI INFECTIVES   \n",
       "1                  Macrolides            No   ANTI INFECTIVES   \n",
       "2                                        No       RESPIRATORY   \n",
       "3  Diphenylmethane Derivative            No       RESPIRATORY   \n",
       "4       Pyridines Derivatives            No       RESPIRATORY   \n",
       "\n",
       "                             Action Class  \n",
       "0                                          \n",
       "1                              Macrolides  \n",
       "2                                          \n",
       "3  H1 Antihistaminics (second Generation)  \n",
       "4   H1 Antihistaminics (First Generation)  \n",
       "\n",
       "[5 rows x 58 columns]"
      ]
     },
     "execution_count": 43,
     "metadata": {},
     "output_type": "execute_result"
    }
   ],
   "source": [
    "df.head(5)"
   ]
  },
  {
   "cell_type": "code",
   "execution_count": 9,
   "metadata": {},
   "outputs": [],
   "source": [
    "dfDictList = df.to_dict('records')"
   ]
  },
  {
   "cell_type": "code",
   "execution_count": 52,
   "metadata": {},
   "outputs": [],
   "source": [
    "# performing refinement on data\n",
    "refinedDataList = []\n",
    "\n",
    "for singleMedData in dfDictList:\n",
    "    refinedDict = {}\n",
    "\n",
    "    refinedDict[\"name\"] = singleMedData[\"name\"]\n",
    "\n",
    "    medKeys = list(singleMedData.keys())\n",
    "\n",
    "    substituteList = []\n",
    "    sideEffects = \"\"\n",
    "    usesList =  []\n",
    "    # looping theough keys and combining alike key values\n",
    "    for key in medKeys:\n",
    "        if key.__contains__(\"substitute\") and singleMedData[key] !='':\n",
    "            substituteList.append(str(singleMedData[key]).strip())\n",
    "\n",
    "        elif key.__contains__(\"sideEffect\") and singleMedData[key] !='':\n",
    "            sideEffects = sideEffects +  str(singleMedData[key]).strip() + \", \"\n",
    "\n",
    "        elif key.__contains__(\"use\") and singleMedData[key] !='':\n",
    "            usesList.append(str(singleMedData[key]).strip())\n",
    "\n",
    "    refinedDict[\"substitute\"] = substituteList\n",
    "    refinedDict[\"side_effect\"] = sideEffects[:len(sideEffects)-2]\n",
    "    refinedDict[\"use\"] = \", \".join(usesList)\n",
    "    refinedDict[\"chemical_class\"] = singleMedData[\"Chemical Class\"]\n",
    "    refinedDict[\"habit_forming\"] = singleMedData[\"Habit Forming\"]\n",
    "    refinedDict[\"action_class\"] = singleMedData[\"Action Class\"]\n",
    "    refinedDict[\"therapeutic_class\"] = singleMedData[\"Therapeutic Class\"]\n",
    "\n",
    "\n",
    "    refinedDataList.append(refinedDict)\n",
    "    \n"
   ]
  },
  {
   "cell_type": "code",
   "execution_count": 54,
   "metadata": {},
   "outputs": [
    {
     "data": {
      "text/plain": [
       "{'name': 'augmentin 625 duo tablet',\n",
       " 'substitute': ['Penciclav 500 mg/125 mg Tablet',\n",
       "  'Moxikind-CV 625 Tablet',\n",
       "  'Moxiforce-CV 625 Tablet',\n",
       "  'Fightox 625 Tablet',\n",
       "  'Novamox CV 625mg Tablet'],\n",
       " 'side_effect': 'Vomiting, Nausea, Diarrhea',\n",
       " 'use': 'Treatment of Bacterial infections',\n",
       " 'chemical_class': '',\n",
       " 'habit_forming': 'No',\n",
       " 'action_class': '',\n",
       " 'therapeutic_class': 'ANTI INFECTIVES'}"
      ]
     },
     "execution_count": 54,
     "metadata": {},
     "output_type": "execute_result"
    }
   ],
   "source": [
    "refinedDataList[0]"
   ]
  },
  {
   "cell_type": "code",
   "execution_count": 55,
   "metadata": {},
   "outputs": [],
   "source": [
    "with open(os.path.join(datasets_dir,\"medicine_dataset.json\"), \"w\") as jFile:\n",
    "    json.dump(refinedDataList[0:500], jFile)"
   ]
  },
  {
   "cell_type": "code",
   "execution_count": 56,
   "metadata": {},
   "outputs": [],
   "source": [
    "with open(os.path.join(datasets_dir,\"medicine_dataset_full.json\"), \"w\") as jFile:\n",
    "    json.dump(refinedDataList, jFile)"
   ]
  }
 ],
 "metadata": {
  "kernelspec": {
   "display_name": ".venv",
   "language": "python",
   "name": "python3"
  },
  "language_info": {
   "codemirror_mode": {
    "name": "ipython",
    "version": 3
   },
   "file_extension": ".py",
   "mimetype": "text/x-python",
   "name": "python",
   "nbconvert_exporter": "python",
   "pygments_lexer": "ipython3",
   "version": "3.11.9"
  }
 },
 "nbformat": 4,
 "nbformat_minor": 2
}
