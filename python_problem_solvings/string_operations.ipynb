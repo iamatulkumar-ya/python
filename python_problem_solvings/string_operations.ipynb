{
 "cells": [
  {
   "cell_type": "markdown",
   "id": "9890c025",
   "metadata": {},
   "source": [
    "### String operations Practice"
   ]
  },
  {
   "cell_type": "markdown",
   "id": "a8ad0f60",
   "metadata": {},
   "source": [
    "#### Reverse the String"
   ]
  },
  {
   "cell_type": "code",
   "execution_count": 10,
   "id": "8f7af449",
   "metadata": {},
   "outputs": [],
   "source": [
    "s = \"This is python technology. Python is very popular and amazing technology.\""
   ]
  },
  {
   "cell_type": "markdown",
   "id": "e628018c",
   "metadata": {},
   "source": [
    "##### reverse back to front"
   ]
  },
  {
   "cell_type": "code",
   "execution_count": 11,
   "id": "16d9242a",
   "metadata": {},
   "outputs": [
    {
     "name": "stdout",
     "output_type": "stream",
     "text": [
      ".\n",
      "y\n",
      "g\n",
      "o\n",
      "l\n",
      "o\n",
      "n\n",
      "h\n",
      "c\n",
      "e\n",
      "t\n",
      " \n",
      "g\n",
      "n\n",
      "i\n",
      "z\n",
      "a\n",
      "m\n",
      "a\n",
      " \n",
      "d\n",
      "n\n",
      "a\n",
      " \n",
      "r\n",
      "a\n",
      "l\n",
      "u\n",
      "p\n",
      "o\n",
      "p\n",
      " \n",
      "y\n",
      "r\n",
      "e\n",
      "v\n",
      " \n",
      "s\n",
      "i\n",
      " \n",
      "n\n",
      "o\n",
      "h\n",
      "t\n",
      "y\n",
      "P\n",
      " \n",
      ".\n",
      "y\n",
      "g\n",
      "o\n",
      "l\n",
      "o\n",
      "n\n",
      "h\n",
      "c\n",
      "e\n",
      "t\n",
      " \n",
      "n\n",
      "o\n",
      "h\n",
      "t\n",
      "y\n",
      "p\n",
      " \n",
      "s\n",
      "i\n",
      " \n",
      "s\n",
      "i\n",
      "h\n",
      "T\n"
     ]
    }
   ],
   "source": [
    "## reverse back to front\n",
    "for i in range(len(s)-1, -1, -1):\n",
    "    print(s[i])\n",
    "\n"
   ]
  },
  {
   "cell_type": "markdown",
   "id": "797b5a11",
   "metadata": {},
   "source": [
    "\n",
    "##### reverse back to front - print in single line\n"
   ]
  },
  {
   "cell_type": "code",
   "execution_count": 12,
   "id": "435b57c5",
   "metadata": {},
   "outputs": [
    {
     "name": "stdout",
     "output_type": "stream",
     "text": [
      ".ygolonhcet gnizama dna ralupop yrev si nohtyP .ygolonhcet nohtyp si sihT\n"
     ]
    }
   ],
   "source": [
    "\n",
    "## reverse back to front - print in single line\n",
    "li = []\n",
    "for i in range(len(s)-1, -1, -1):\n",
    "    li.append(s[i])\n",
    "\n",
    "print(\"\".join(li))\n",
    "\n",
    "##"
   ]
  },
  {
   "cell_type": "markdown",
   "id": "ff23dc7b",
   "metadata": {},
   "source": [
    "##### reverse only words position -> back to front"
   ]
  },
  {
   "cell_type": "code",
   "execution_count": 19,
   "id": "a233871f",
   "metadata": {},
   "outputs": [
    {
     "name": "stdout",
     "output_type": "stream",
     "text": [
      "technology. amazing and popular very is Python technology. python is This\n"
     ]
    }
   ],
   "source": [
    "nli = []\n",
    "sli= s.split()\n",
    "for i in range(len(sli)-1, -1, -1):\n",
    "    nli.append(sli[i])\n",
    "\n",
    "print(\" \".join(nli))"
   ]
  },
  {
   "cell_type": "markdown",
   "id": "2b32952b",
   "metadata": {},
   "source": [
    "##### find duplicate words in string and the count"
   ]
  },
  {
   "cell_type": "code",
   "execution_count": 22,
   "id": "4120de1d",
   "metadata": {},
   "outputs": [
    {
     "data": {
      "text/plain": [
       "['is :2', 'technology. :2']"
      ]
     },
     "execution_count": 22,
     "metadata": {},
     "output_type": "execute_result"
    }
   ],
   "source": [
    "duplicate_dict = {}\n",
    "\n",
    "for txt in s.split():\n",
    "    if txt not in duplicate_dict:\n",
    "        duplicate_dict[txt] = 1\n",
    "    else:\n",
    "        duplicate_dict[txt] += 1\n",
    "\n",
    " \n",
    "[f\"{k} :{v}\" for k, v in duplicate_dict.items() if v > 1]"
   ]
  },
  {
   "cell_type": "markdown",
   "id": "6622aeb3",
   "metadata": {},
   "source": [
    "##### find lengthy palindrome number in a string"
   ]
  },
  {
   "cell_type": "code",
   "execution_count": 28,
   "id": "f7de064f",
   "metadata": {},
   "outputs": [
    {
     "name": "stdout",
     "output_type": "stream",
     "text": [
      "Lengthy palindrome in given string is - malayalam\n"
     ]
    }
   ],
   "source": [
    "pstr = \"yey Hi this text is to explore palindrome number. We will explore some words like mem, toot. som toher random words also like malayalam\"\n",
    "\n",
    "# let's apply palindrome logic to get the palindrome text string\n",
    "\n",
    "def is_palindrome(text:str):\n",
    "    _tempText = \"\"\n",
    "    for i in range(len(text)-1, -1,-1):\n",
    "        _tempText +=text[i]\n",
    "\n",
    "    if text == _tempText:\n",
    "        return True\n",
    "    \n",
    "    return False\n",
    "\n",
    "_lengthyPalin = \"\"\n",
    "for word in pstr.split():\n",
    "    if len(word) > 2 and word[0] == word[len(word)-1]:\n",
    "        if(is_palindrome(word)) and len(word) > len(_lengthyPalin):\n",
    "            _lengthyPalin = word\n",
    "\n",
    "\n",
    "print(f\"Lengthy palindrome in given string is - {_lengthyPalin}\")\n"
   ]
  },
  {
   "cell_type": "markdown",
   "id": "1a35b20d",
   "metadata": {},
   "source": []
  },
  {
   "cell_type": "code",
   "execution_count": null,
   "id": "1d6eda27",
   "metadata": {},
   "outputs": [],
   "source": [
    "# Given two strings, str1, and str2, where str1 contains exactly one character more than str2, find the indices of the characters in str1 that can be removed to make str1 equal to str2. Return the array of indices in increasing order. If it is not possible, return the array \\[-1\\]. \n",
    "\n",
    "# **Note:** Use 0-based indexing.\n",
    "\n",
    "# **Example**\n",
    "\n",
    "# str1 = \"abdgggda\"\n",
    "\n",
    "# str2 = \"abdggda\"\n",
    "\n",
    "# Any \"g\" character at positions 3, 4, or 5 can be deleted to obtain str2. Return \\[3, 4, 5\\]."
   ]
  },
  {
   "cell_type": "code",
   "execution_count": null,
   "id": "6d26c0e7",
   "metadata": {},
   "outputs": [],
   "source": [
    "#!/bin/python3\n",
    "\n",
    "import math\n",
    "import os\n",
    "import random\n",
    "import re\n",
    "import sys\n",
    "\n",
    "#\n",
    "# Complete the 'getRemovableIndices' function below.\n",
    "#\n",
    "# The function is expected to return an INTEGER_ARRAY.\n",
    "# The function accepts following parameters:\n",
    "#  1. STRING str1\n",
    "#  2. STRING str2\n",
    "#\n",
    "\n",
    "def getRemovableIndices(str1, str2):\n",
    "    # Write your code here\n",
    "    extraChar = None\n",
    "    for i in range(len(str1)):\n",
    "        if i < len(str2):\n",
    "            if str1[i] != str2[i]:\n",
    "                extraChar = (i, str1[i])\n",
    "        else:\n",
    "            extraChar = (i, str1[i])\n",
    "    indexes = []        \n",
    " \n",
    "    for i in range(len(str1)):\n",
    "        if str1[i] == extraChar[1]:\n",
    "            if str1[:i] + str1[i+1:] == str2:\n",
    "                indexes.append(i)\n",
    "     \n",
    "    return indexes if indexes else [-1]\n",
    "if __name__ == '__main__':\n",
    "    str1 = input()\n",
    "\n",
    "    str2 = input()\n",
    "\n",
    "    result = getRemovableIndices(str1, str2)\n",
    "\n",
    "    print('\\n'.join(map(str, result)))\n"
   ]
  },
  {
   "cell_type": "code",
   "execution_count": null,
   "id": "10157c5f",
   "metadata": {},
   "outputs": [],
   "source": [
    "str1 = \"abdgggda\"\n",
    "\n",
    "str2 = \"abdggda\"\n",
    "\n",
    "li=[]\n",
    "\n",
    " "
   ]
  },
  {
   "cell_type": "code",
   "execution_count": null,
   "id": "7db1d630",
   "metadata": {},
   "outputs": [],
   "source": []
  }
 ],
 "metadata": {
  "kernelspec": {
   "display_name": ".venv",
   "language": "python",
   "name": "python3"
  },
  "language_info": {
   "codemirror_mode": {
    "name": "ipython",
    "version": 3
   },
   "file_extension": ".py",
   "mimetype": "text/x-python",
   "name": "python",
   "nbconvert_exporter": "python",
   "pygments_lexer": "ipython3",
   "version": "3.12.9"
  }
 },
 "nbformat": 4,
 "nbformat_minor": 5
}
